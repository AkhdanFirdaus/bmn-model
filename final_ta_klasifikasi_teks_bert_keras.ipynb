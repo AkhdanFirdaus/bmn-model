{
  "nbformat": 4,
  "nbformat_minor": 0,
  "metadata": {
    "colab": {
      "provenance": [],
      "collapsed_sections": [
        "DnbLk8zFapDr",
        "fKXBbev7iLai",
        "i6T77ib8PdHz",
        "S4C8djJfPieR",
        "q8gj5Hk2Plxz",
        "fUchNe_lPgwY",
        "VM5ADuHIa1vN",
        "4fvFP7eaO2V2",
        "ivTrXNzOPAGz",
        "3w8LsS7Rtq6a"
      ],
      "gpuType": "T4",
      "toc_visible": true,
      "authorship_tag": "ABX9TyOxiTSIn/XBok6MOOdSwTPJ",
      "include_colab_link": true
    },
    "kernelspec": {
      "name": "python3",
      "display_name": "Python 3"
    },
    "language_info": {
      "name": "python"
    },
    "accelerator": "GPU",
    "widgets": {
      "application/vnd.jupyter.widget-state+json": {
        "71eb9e3d03dc45d5b8acacaf1124840c": {
          "model_module": "@jupyter-widgets/controls",
          "model_name": "HBoxModel",
          "model_module_version": "1.5.0",
          "state": {
            "_dom_classes": [],
            "_model_module": "@jupyter-widgets/controls",
            "_model_module_version": "1.5.0",
            "_model_name": "HBoxModel",
            "_view_count": null,
            "_view_module": "@jupyter-widgets/controls",
            "_view_module_version": "1.5.0",
            "_view_name": "HBoxView",
            "box_style": "",
            "children": [
              "IPY_MODEL_86653eced662446ab96e281f2ec1c76d",
              "IPY_MODEL_e5568f0fe37346df9001fa72916e183a",
              "IPY_MODEL_419ae2de79594a87a2ebb14e753d1289"
            ],
            "layout": "IPY_MODEL_6246b465fe8845ecb8fcd69d4b83c7cb"
          }
        },
        "86653eced662446ab96e281f2ec1c76d": {
          "model_module": "@jupyter-widgets/controls",
          "model_name": "HTMLModel",
          "model_module_version": "1.5.0",
          "state": {
            "_dom_classes": [],
            "_model_module": "@jupyter-widgets/controls",
            "_model_module_version": "1.5.0",
            "_model_name": "HTMLModel",
            "_view_count": null,
            "_view_module": "@jupyter-widgets/controls",
            "_view_module_version": "1.5.0",
            "_view_name": "HTMLView",
            "description": "",
            "description_tooltip": null,
            "layout": "IPY_MODEL_65f37ed5f19b4cb6a73cadf1be239d7b",
            "placeholder": "​",
            "style": "IPY_MODEL_33a3ff1b11384e9b842c82e05d54cf10",
            "value": "Downloading (…)solve/main/vocab.txt: 100%"
          }
        },
        "e5568f0fe37346df9001fa72916e183a": {
          "model_module": "@jupyter-widgets/controls",
          "model_name": "FloatProgressModel",
          "model_module_version": "1.5.0",
          "state": {
            "_dom_classes": [],
            "_model_module": "@jupyter-widgets/controls",
            "_model_module_version": "1.5.0",
            "_model_name": "FloatProgressModel",
            "_view_count": null,
            "_view_module": "@jupyter-widgets/controls",
            "_view_module_version": "1.5.0",
            "_view_name": "ProgressView",
            "bar_style": "success",
            "description": "",
            "description_tooltip": null,
            "layout": "IPY_MODEL_80a50f74f8f9453991e45cb55c1d0ac3",
            "max": 224974,
            "min": 0,
            "orientation": "horizontal",
            "style": "IPY_MODEL_f38d2b7978d64b8794472b129a3510fd",
            "value": 224974
          }
        },
        "419ae2de79594a87a2ebb14e753d1289": {
          "model_module": "@jupyter-widgets/controls",
          "model_name": "HTMLModel",
          "model_module_version": "1.5.0",
          "state": {
            "_dom_classes": [],
            "_model_module": "@jupyter-widgets/controls",
            "_model_module_version": "1.5.0",
            "_model_name": "HTMLModel",
            "_view_count": null,
            "_view_module": "@jupyter-widgets/controls",
            "_view_module_version": "1.5.0",
            "_view_name": "HTMLView",
            "description": "",
            "description_tooltip": null,
            "layout": "IPY_MODEL_f71592a01a4f403ca0db048aa9fa9466",
            "placeholder": "​",
            "style": "IPY_MODEL_a882772080c642a6adfad585cbdf007b",
            "value": " 225k/225k [00:00&lt;00:00, 2.32MB/s]"
          }
        },
        "6246b465fe8845ecb8fcd69d4b83c7cb": {
          "model_module": "@jupyter-widgets/base",
          "model_name": "LayoutModel",
          "model_module_version": "1.2.0",
          "state": {
            "_model_module": "@jupyter-widgets/base",
            "_model_module_version": "1.2.0",
            "_model_name": "LayoutModel",
            "_view_count": null,
            "_view_module": "@jupyter-widgets/base",
            "_view_module_version": "1.2.0",
            "_view_name": "LayoutView",
            "align_content": null,
            "align_items": null,
            "align_self": null,
            "border": null,
            "bottom": null,
            "display": null,
            "flex": null,
            "flex_flow": null,
            "grid_area": null,
            "grid_auto_columns": null,
            "grid_auto_flow": null,
            "grid_auto_rows": null,
            "grid_column": null,
            "grid_gap": null,
            "grid_row": null,
            "grid_template_areas": null,
            "grid_template_columns": null,
            "grid_template_rows": null,
            "height": null,
            "justify_content": null,
            "justify_items": null,
            "left": null,
            "margin": null,
            "max_height": null,
            "max_width": null,
            "min_height": null,
            "min_width": null,
            "object_fit": null,
            "object_position": null,
            "order": null,
            "overflow": null,
            "overflow_x": null,
            "overflow_y": null,
            "padding": null,
            "right": null,
            "top": null,
            "visibility": null,
            "width": null
          }
        },
        "65f37ed5f19b4cb6a73cadf1be239d7b": {
          "model_module": "@jupyter-widgets/base",
          "model_name": "LayoutModel",
          "model_module_version": "1.2.0",
          "state": {
            "_model_module": "@jupyter-widgets/base",
            "_model_module_version": "1.2.0",
            "_model_name": "LayoutModel",
            "_view_count": null,
            "_view_module": "@jupyter-widgets/base",
            "_view_module_version": "1.2.0",
            "_view_name": "LayoutView",
            "align_content": null,
            "align_items": null,
            "align_self": null,
            "border": null,
            "bottom": null,
            "display": null,
            "flex": null,
            "flex_flow": null,
            "grid_area": null,
            "grid_auto_columns": null,
            "grid_auto_flow": null,
            "grid_auto_rows": null,
            "grid_column": null,
            "grid_gap": null,
            "grid_row": null,
            "grid_template_areas": null,
            "grid_template_columns": null,
            "grid_template_rows": null,
            "height": null,
            "justify_content": null,
            "justify_items": null,
            "left": null,
            "margin": null,
            "max_height": null,
            "max_width": null,
            "min_height": null,
            "min_width": null,
            "object_fit": null,
            "object_position": null,
            "order": null,
            "overflow": null,
            "overflow_x": null,
            "overflow_y": null,
            "padding": null,
            "right": null,
            "top": null,
            "visibility": null,
            "width": null
          }
        },
        "33a3ff1b11384e9b842c82e05d54cf10": {
          "model_module": "@jupyter-widgets/controls",
          "model_name": "DescriptionStyleModel",
          "model_module_version": "1.5.0",
          "state": {
            "_model_module": "@jupyter-widgets/controls",
            "_model_module_version": "1.5.0",
            "_model_name": "DescriptionStyleModel",
            "_view_count": null,
            "_view_module": "@jupyter-widgets/base",
            "_view_module_version": "1.2.0",
            "_view_name": "StyleView",
            "description_width": ""
          }
        },
        "80a50f74f8f9453991e45cb55c1d0ac3": {
          "model_module": "@jupyter-widgets/base",
          "model_name": "LayoutModel",
          "model_module_version": "1.2.0",
          "state": {
            "_model_module": "@jupyter-widgets/base",
            "_model_module_version": "1.2.0",
            "_model_name": "LayoutModel",
            "_view_count": null,
            "_view_module": "@jupyter-widgets/base",
            "_view_module_version": "1.2.0",
            "_view_name": "LayoutView",
            "align_content": null,
            "align_items": null,
            "align_self": null,
            "border": null,
            "bottom": null,
            "display": null,
            "flex": null,
            "flex_flow": null,
            "grid_area": null,
            "grid_auto_columns": null,
            "grid_auto_flow": null,
            "grid_auto_rows": null,
            "grid_column": null,
            "grid_gap": null,
            "grid_row": null,
            "grid_template_areas": null,
            "grid_template_columns": null,
            "grid_template_rows": null,
            "height": null,
            "justify_content": null,
            "justify_items": null,
            "left": null,
            "margin": null,
            "max_height": null,
            "max_width": null,
            "min_height": null,
            "min_width": null,
            "object_fit": null,
            "object_position": null,
            "order": null,
            "overflow": null,
            "overflow_x": null,
            "overflow_y": null,
            "padding": null,
            "right": null,
            "top": null,
            "visibility": null,
            "width": null
          }
        },
        "f38d2b7978d64b8794472b129a3510fd": {
          "model_module": "@jupyter-widgets/controls",
          "model_name": "ProgressStyleModel",
          "model_module_version": "1.5.0",
          "state": {
            "_model_module": "@jupyter-widgets/controls",
            "_model_module_version": "1.5.0",
            "_model_name": "ProgressStyleModel",
            "_view_count": null,
            "_view_module": "@jupyter-widgets/base",
            "_view_module_version": "1.2.0",
            "_view_name": "StyleView",
            "bar_color": null,
            "description_width": ""
          }
        },
        "f71592a01a4f403ca0db048aa9fa9466": {
          "model_module": "@jupyter-widgets/base",
          "model_name": "LayoutModel",
          "model_module_version": "1.2.0",
          "state": {
            "_model_module": "@jupyter-widgets/base",
            "_model_module_version": "1.2.0",
            "_model_name": "LayoutModel",
            "_view_count": null,
            "_view_module": "@jupyter-widgets/base",
            "_view_module_version": "1.2.0",
            "_view_name": "LayoutView",
            "align_content": null,
            "align_items": null,
            "align_self": null,
            "border": null,
            "bottom": null,
            "display": null,
            "flex": null,
            "flex_flow": null,
            "grid_area": null,
            "grid_auto_columns": null,
            "grid_auto_flow": null,
            "grid_auto_rows": null,
            "grid_column": null,
            "grid_gap": null,
            "grid_row": null,
            "grid_template_areas": null,
            "grid_template_columns": null,
            "grid_template_rows": null,
            "height": null,
            "justify_content": null,
            "justify_items": null,
            "left": null,
            "margin": null,
            "max_height": null,
            "max_width": null,
            "min_height": null,
            "min_width": null,
            "object_fit": null,
            "object_position": null,
            "order": null,
            "overflow": null,
            "overflow_x": null,
            "overflow_y": null,
            "padding": null,
            "right": null,
            "top": null,
            "visibility": null,
            "width": null
          }
        },
        "a882772080c642a6adfad585cbdf007b": {
          "model_module": "@jupyter-widgets/controls",
          "model_name": "DescriptionStyleModel",
          "model_module_version": "1.5.0",
          "state": {
            "_model_module": "@jupyter-widgets/controls",
            "_model_module_version": "1.5.0",
            "_model_name": "DescriptionStyleModel",
            "_view_count": null,
            "_view_module": "@jupyter-widgets/base",
            "_view_module_version": "1.2.0",
            "_view_name": "StyleView",
            "description_width": ""
          }
        },
        "bb447501a3334156874f0144bfbe6030": {
          "model_module": "@jupyter-widgets/controls",
          "model_name": "HBoxModel",
          "model_module_version": "1.5.0",
          "state": {
            "_dom_classes": [],
            "_model_module": "@jupyter-widgets/controls",
            "_model_module_version": "1.5.0",
            "_model_name": "HBoxModel",
            "_view_count": null,
            "_view_module": "@jupyter-widgets/controls",
            "_view_module_version": "1.5.0",
            "_view_name": "HBoxView",
            "box_style": "",
            "children": [
              "IPY_MODEL_2ce6e91108404e1a9cbc095ac78411ab",
              "IPY_MODEL_9b02756504c040b681320057eb8f9214",
              "IPY_MODEL_fcd637a58479407fba1cd3c3235aa569"
            ],
            "layout": "IPY_MODEL_96badc1d0f194f1d97fd37bd9cb79648"
          }
        },
        "2ce6e91108404e1a9cbc095ac78411ab": {
          "model_module": "@jupyter-widgets/controls",
          "model_name": "HTMLModel",
          "model_module_version": "1.5.0",
          "state": {
            "_dom_classes": [],
            "_model_module": "@jupyter-widgets/controls",
            "_model_module_version": "1.5.0",
            "_model_name": "HTMLModel",
            "_view_count": null,
            "_view_module": "@jupyter-widgets/controls",
            "_view_module_version": "1.5.0",
            "_view_name": "HTMLView",
            "description": "",
            "description_tooltip": null,
            "layout": "IPY_MODEL_af428bfd40cd4b6ebb07e1606d026c1e",
            "placeholder": "​",
            "style": "IPY_MODEL_d796016bd9c54560a7a6a62170470928",
            "value": "Downloading (…)cial_tokens_map.json: 100%"
          }
        },
        "9b02756504c040b681320057eb8f9214": {
          "model_module": "@jupyter-widgets/controls",
          "model_name": "FloatProgressModel",
          "model_module_version": "1.5.0",
          "state": {
            "_dom_classes": [],
            "_model_module": "@jupyter-widgets/controls",
            "_model_module_version": "1.5.0",
            "_model_name": "FloatProgressModel",
            "_view_count": null,
            "_view_module": "@jupyter-widgets/controls",
            "_view_module_version": "1.5.0",
            "_view_name": "ProgressView",
            "bar_style": "success",
            "description": "",
            "description_tooltip": null,
            "layout": "IPY_MODEL_210c870affd2421aafe8cf19ddcc7cfc",
            "max": 112,
            "min": 0,
            "orientation": "horizontal",
            "style": "IPY_MODEL_d8649a068114456584a8c3ff0b6e2a1f",
            "value": 112
          }
        },
        "fcd637a58479407fba1cd3c3235aa569": {
          "model_module": "@jupyter-widgets/controls",
          "model_name": "HTMLModel",
          "model_module_version": "1.5.0",
          "state": {
            "_dom_classes": [],
            "_model_module": "@jupyter-widgets/controls",
            "_model_module_version": "1.5.0",
            "_model_name": "HTMLModel",
            "_view_count": null,
            "_view_module": "@jupyter-widgets/controls",
            "_view_module_version": "1.5.0",
            "_view_name": "HTMLView",
            "description": "",
            "description_tooltip": null,
            "layout": "IPY_MODEL_7a3bcdb2734c49e3b8480afd50754c3e",
            "placeholder": "​",
            "style": "IPY_MODEL_84dfbd37c7c94445858d0ad3907b8b13",
            "value": " 112/112 [00:00&lt;00:00, 5.66kB/s]"
          }
        },
        "96badc1d0f194f1d97fd37bd9cb79648": {
          "model_module": "@jupyter-widgets/base",
          "model_name": "LayoutModel",
          "model_module_version": "1.2.0",
          "state": {
            "_model_module": "@jupyter-widgets/base",
            "_model_module_version": "1.2.0",
            "_model_name": "LayoutModel",
            "_view_count": null,
            "_view_module": "@jupyter-widgets/base",
            "_view_module_version": "1.2.0",
            "_view_name": "LayoutView",
            "align_content": null,
            "align_items": null,
            "align_self": null,
            "border": null,
            "bottom": null,
            "display": null,
            "flex": null,
            "flex_flow": null,
            "grid_area": null,
            "grid_auto_columns": null,
            "grid_auto_flow": null,
            "grid_auto_rows": null,
            "grid_column": null,
            "grid_gap": null,
            "grid_row": null,
            "grid_template_areas": null,
            "grid_template_columns": null,
            "grid_template_rows": null,
            "height": null,
            "justify_content": null,
            "justify_items": null,
            "left": null,
            "margin": null,
            "max_height": null,
            "max_width": null,
            "min_height": null,
            "min_width": null,
            "object_fit": null,
            "object_position": null,
            "order": null,
            "overflow": null,
            "overflow_x": null,
            "overflow_y": null,
            "padding": null,
            "right": null,
            "top": null,
            "visibility": null,
            "width": null
          }
        },
        "af428bfd40cd4b6ebb07e1606d026c1e": {
          "model_module": "@jupyter-widgets/base",
          "model_name": "LayoutModel",
          "model_module_version": "1.2.0",
          "state": {
            "_model_module": "@jupyter-widgets/base",
            "_model_module_version": "1.2.0",
            "_model_name": "LayoutModel",
            "_view_count": null,
            "_view_module": "@jupyter-widgets/base",
            "_view_module_version": "1.2.0",
            "_view_name": "LayoutView",
            "align_content": null,
            "align_items": null,
            "align_self": null,
            "border": null,
            "bottom": null,
            "display": null,
            "flex": null,
            "flex_flow": null,
            "grid_area": null,
            "grid_auto_columns": null,
            "grid_auto_flow": null,
            "grid_auto_rows": null,
            "grid_column": null,
            "grid_gap": null,
            "grid_row": null,
            "grid_template_areas": null,
            "grid_template_columns": null,
            "grid_template_rows": null,
            "height": null,
            "justify_content": null,
            "justify_items": null,
            "left": null,
            "margin": null,
            "max_height": null,
            "max_width": null,
            "min_height": null,
            "min_width": null,
            "object_fit": null,
            "object_position": null,
            "order": null,
            "overflow": null,
            "overflow_x": null,
            "overflow_y": null,
            "padding": null,
            "right": null,
            "top": null,
            "visibility": null,
            "width": null
          }
        },
        "d796016bd9c54560a7a6a62170470928": {
          "model_module": "@jupyter-widgets/controls",
          "model_name": "DescriptionStyleModel",
          "model_module_version": "1.5.0",
          "state": {
            "_model_module": "@jupyter-widgets/controls",
            "_model_module_version": "1.5.0",
            "_model_name": "DescriptionStyleModel",
            "_view_count": null,
            "_view_module": "@jupyter-widgets/base",
            "_view_module_version": "1.2.0",
            "_view_name": "StyleView",
            "description_width": ""
          }
        },
        "210c870affd2421aafe8cf19ddcc7cfc": {
          "model_module": "@jupyter-widgets/base",
          "model_name": "LayoutModel",
          "model_module_version": "1.2.0",
          "state": {
            "_model_module": "@jupyter-widgets/base",
            "_model_module_version": "1.2.0",
            "_model_name": "LayoutModel",
            "_view_count": null,
            "_view_module": "@jupyter-widgets/base",
            "_view_module_version": "1.2.0",
            "_view_name": "LayoutView",
            "align_content": null,
            "align_items": null,
            "align_self": null,
            "border": null,
            "bottom": null,
            "display": null,
            "flex": null,
            "flex_flow": null,
            "grid_area": null,
            "grid_auto_columns": null,
            "grid_auto_flow": null,
            "grid_auto_rows": null,
            "grid_column": null,
            "grid_gap": null,
            "grid_row": null,
            "grid_template_areas": null,
            "grid_template_columns": null,
            "grid_template_rows": null,
            "height": null,
            "justify_content": null,
            "justify_items": null,
            "left": null,
            "margin": null,
            "max_height": null,
            "max_width": null,
            "min_height": null,
            "min_width": null,
            "object_fit": null,
            "object_position": null,
            "order": null,
            "overflow": null,
            "overflow_x": null,
            "overflow_y": null,
            "padding": null,
            "right": null,
            "top": null,
            "visibility": null,
            "width": null
          }
        },
        "d8649a068114456584a8c3ff0b6e2a1f": {
          "model_module": "@jupyter-widgets/controls",
          "model_name": "ProgressStyleModel",
          "model_module_version": "1.5.0",
          "state": {
            "_model_module": "@jupyter-widgets/controls",
            "_model_module_version": "1.5.0",
            "_model_name": "ProgressStyleModel",
            "_view_count": null,
            "_view_module": "@jupyter-widgets/base",
            "_view_module_version": "1.2.0",
            "_view_name": "StyleView",
            "bar_color": null,
            "description_width": ""
          }
        },
        "7a3bcdb2734c49e3b8480afd50754c3e": {
          "model_module": "@jupyter-widgets/base",
          "model_name": "LayoutModel",
          "model_module_version": "1.2.0",
          "state": {
            "_model_module": "@jupyter-widgets/base",
            "_model_module_version": "1.2.0",
            "_model_name": "LayoutModel",
            "_view_count": null,
            "_view_module": "@jupyter-widgets/base",
            "_view_module_version": "1.2.0",
            "_view_name": "LayoutView",
            "align_content": null,
            "align_items": null,
            "align_self": null,
            "border": null,
            "bottom": null,
            "display": null,
            "flex": null,
            "flex_flow": null,
            "grid_area": null,
            "grid_auto_columns": null,
            "grid_auto_flow": null,
            "grid_auto_rows": null,
            "grid_column": null,
            "grid_gap": null,
            "grid_row": null,
            "grid_template_areas": null,
            "grid_template_columns": null,
            "grid_template_rows": null,
            "height": null,
            "justify_content": null,
            "justify_items": null,
            "left": null,
            "margin": null,
            "max_height": null,
            "max_width": null,
            "min_height": null,
            "min_width": null,
            "object_fit": null,
            "object_position": null,
            "order": null,
            "overflow": null,
            "overflow_x": null,
            "overflow_y": null,
            "padding": null,
            "right": null,
            "top": null,
            "visibility": null,
            "width": null
          }
        },
        "84dfbd37c7c94445858d0ad3907b8b13": {
          "model_module": "@jupyter-widgets/controls",
          "model_name": "DescriptionStyleModel",
          "model_module_version": "1.5.0",
          "state": {
            "_model_module": "@jupyter-widgets/controls",
            "_model_module_version": "1.5.0",
            "_model_name": "DescriptionStyleModel",
            "_view_count": null,
            "_view_module": "@jupyter-widgets/base",
            "_view_module_version": "1.2.0",
            "_view_name": "StyleView",
            "description_width": ""
          }
        },
        "7b886c0cfbe64389a733f9ed7c52f96a": {
          "model_module": "@jupyter-widgets/controls",
          "model_name": "HBoxModel",
          "model_module_version": "1.5.0",
          "state": {
            "_dom_classes": [],
            "_model_module": "@jupyter-widgets/controls",
            "_model_module_version": "1.5.0",
            "_model_name": "HBoxModel",
            "_view_count": null,
            "_view_module": "@jupyter-widgets/controls",
            "_view_module_version": "1.5.0",
            "_view_name": "HBoxView",
            "box_style": "",
            "children": [
              "IPY_MODEL_c1ce1621b4d34671939c535bac7c2925",
              "IPY_MODEL_542b60e3b7434d2080833b90fc9d019a",
              "IPY_MODEL_1e2e9f74970b4ddb9428043031699249"
            ],
            "layout": "IPY_MODEL_ece281e853e044db92c0842156c594be"
          }
        },
        "c1ce1621b4d34671939c535bac7c2925": {
          "model_module": "@jupyter-widgets/controls",
          "model_name": "HTMLModel",
          "model_module_version": "1.5.0",
          "state": {
            "_dom_classes": [],
            "_model_module": "@jupyter-widgets/controls",
            "_model_module_version": "1.5.0",
            "_model_name": "HTMLModel",
            "_view_count": null,
            "_view_module": "@jupyter-widgets/controls",
            "_view_module_version": "1.5.0",
            "_view_name": "HTMLView",
            "description": "",
            "description_tooltip": null,
            "layout": "IPY_MODEL_6d636fda929d44ac95dabaa269f41709",
            "placeholder": "​",
            "style": "IPY_MODEL_2f4a4fbfb7d347999a570a20d96e83fc",
            "value": "Downloading (…)okenizer_config.json: 100%"
          }
        },
        "542b60e3b7434d2080833b90fc9d019a": {
          "model_module": "@jupyter-widgets/controls",
          "model_name": "FloatProgressModel",
          "model_module_version": "1.5.0",
          "state": {
            "_dom_classes": [],
            "_model_module": "@jupyter-widgets/controls",
            "_model_module_version": "1.5.0",
            "_model_name": "FloatProgressModel",
            "_view_count": null,
            "_view_module": "@jupyter-widgets/controls",
            "_view_module_version": "1.5.0",
            "_view_name": "ProgressView",
            "bar_style": "success",
            "description": "",
            "description_tooltip": null,
            "layout": "IPY_MODEL_746345f6a8cf469f8b04fa559d586b77",
            "max": 2,
            "min": 0,
            "orientation": "horizontal",
            "style": "IPY_MODEL_dc7087e621044404babead1fef611d0f",
            "value": 2
          }
        },
        "1e2e9f74970b4ddb9428043031699249": {
          "model_module": "@jupyter-widgets/controls",
          "model_name": "HTMLModel",
          "model_module_version": "1.5.0",
          "state": {
            "_dom_classes": [],
            "_model_module": "@jupyter-widgets/controls",
            "_model_module_version": "1.5.0",
            "_model_name": "HTMLModel",
            "_view_count": null,
            "_view_module": "@jupyter-widgets/controls",
            "_view_module_version": "1.5.0",
            "_view_name": "HTMLView",
            "description": "",
            "description_tooltip": null,
            "layout": "IPY_MODEL_09e0614323a64d35a058b658fadc842b",
            "placeholder": "​",
            "style": "IPY_MODEL_008c46beead347a99b58ceb164aa3ea6",
            "value": " 2.00/2.00 [00:00&lt;00:00, 113B/s]"
          }
        },
        "ece281e853e044db92c0842156c594be": {
          "model_module": "@jupyter-widgets/base",
          "model_name": "LayoutModel",
          "model_module_version": "1.2.0",
          "state": {
            "_model_module": "@jupyter-widgets/base",
            "_model_module_version": "1.2.0",
            "_model_name": "LayoutModel",
            "_view_count": null,
            "_view_module": "@jupyter-widgets/base",
            "_view_module_version": "1.2.0",
            "_view_name": "LayoutView",
            "align_content": null,
            "align_items": null,
            "align_self": null,
            "border": null,
            "bottom": null,
            "display": null,
            "flex": null,
            "flex_flow": null,
            "grid_area": null,
            "grid_auto_columns": null,
            "grid_auto_flow": null,
            "grid_auto_rows": null,
            "grid_column": null,
            "grid_gap": null,
            "grid_row": null,
            "grid_template_areas": null,
            "grid_template_columns": null,
            "grid_template_rows": null,
            "height": null,
            "justify_content": null,
            "justify_items": null,
            "left": null,
            "margin": null,
            "max_height": null,
            "max_width": null,
            "min_height": null,
            "min_width": null,
            "object_fit": null,
            "object_position": null,
            "order": null,
            "overflow": null,
            "overflow_x": null,
            "overflow_y": null,
            "padding": null,
            "right": null,
            "top": null,
            "visibility": null,
            "width": null
          }
        },
        "6d636fda929d44ac95dabaa269f41709": {
          "model_module": "@jupyter-widgets/base",
          "model_name": "LayoutModel",
          "model_module_version": "1.2.0",
          "state": {
            "_model_module": "@jupyter-widgets/base",
            "_model_module_version": "1.2.0",
            "_model_name": "LayoutModel",
            "_view_count": null,
            "_view_module": "@jupyter-widgets/base",
            "_view_module_version": "1.2.0",
            "_view_name": "LayoutView",
            "align_content": null,
            "align_items": null,
            "align_self": null,
            "border": null,
            "bottom": null,
            "display": null,
            "flex": null,
            "flex_flow": null,
            "grid_area": null,
            "grid_auto_columns": null,
            "grid_auto_flow": null,
            "grid_auto_rows": null,
            "grid_column": null,
            "grid_gap": null,
            "grid_row": null,
            "grid_template_areas": null,
            "grid_template_columns": null,
            "grid_template_rows": null,
            "height": null,
            "justify_content": null,
            "justify_items": null,
            "left": null,
            "margin": null,
            "max_height": null,
            "max_width": null,
            "min_height": null,
            "min_width": null,
            "object_fit": null,
            "object_position": null,
            "order": null,
            "overflow": null,
            "overflow_x": null,
            "overflow_y": null,
            "padding": null,
            "right": null,
            "top": null,
            "visibility": null,
            "width": null
          }
        },
        "2f4a4fbfb7d347999a570a20d96e83fc": {
          "model_module": "@jupyter-widgets/controls",
          "model_name": "DescriptionStyleModel",
          "model_module_version": "1.5.0",
          "state": {
            "_model_module": "@jupyter-widgets/controls",
            "_model_module_version": "1.5.0",
            "_model_name": "DescriptionStyleModel",
            "_view_count": null,
            "_view_module": "@jupyter-widgets/base",
            "_view_module_version": "1.2.0",
            "_view_name": "StyleView",
            "description_width": ""
          }
        },
        "746345f6a8cf469f8b04fa559d586b77": {
          "model_module": "@jupyter-widgets/base",
          "model_name": "LayoutModel",
          "model_module_version": "1.2.0",
          "state": {
            "_model_module": "@jupyter-widgets/base",
            "_model_module_version": "1.2.0",
            "_model_name": "LayoutModel",
            "_view_count": null,
            "_view_module": "@jupyter-widgets/base",
            "_view_module_version": "1.2.0",
            "_view_name": "LayoutView",
            "align_content": null,
            "align_items": null,
            "align_self": null,
            "border": null,
            "bottom": null,
            "display": null,
            "flex": null,
            "flex_flow": null,
            "grid_area": null,
            "grid_auto_columns": null,
            "grid_auto_flow": null,
            "grid_auto_rows": null,
            "grid_column": null,
            "grid_gap": null,
            "grid_row": null,
            "grid_template_areas": null,
            "grid_template_columns": null,
            "grid_template_rows": null,
            "height": null,
            "justify_content": null,
            "justify_items": null,
            "left": null,
            "margin": null,
            "max_height": null,
            "max_width": null,
            "min_height": null,
            "min_width": null,
            "object_fit": null,
            "object_position": null,
            "order": null,
            "overflow": null,
            "overflow_x": null,
            "overflow_y": null,
            "padding": null,
            "right": null,
            "top": null,
            "visibility": null,
            "width": null
          }
        },
        "dc7087e621044404babead1fef611d0f": {
          "model_module": "@jupyter-widgets/controls",
          "model_name": "ProgressStyleModel",
          "model_module_version": "1.5.0",
          "state": {
            "_model_module": "@jupyter-widgets/controls",
            "_model_module_version": "1.5.0",
            "_model_name": "ProgressStyleModel",
            "_view_count": null,
            "_view_module": "@jupyter-widgets/base",
            "_view_module_version": "1.2.0",
            "_view_name": "StyleView",
            "bar_color": null,
            "description_width": ""
          }
        },
        "09e0614323a64d35a058b658fadc842b": {
          "model_module": "@jupyter-widgets/base",
          "model_name": "LayoutModel",
          "model_module_version": "1.2.0",
          "state": {
            "_model_module": "@jupyter-widgets/base",
            "_model_module_version": "1.2.0",
            "_model_name": "LayoutModel",
            "_view_count": null,
            "_view_module": "@jupyter-widgets/base",
            "_view_module_version": "1.2.0",
            "_view_name": "LayoutView",
            "align_content": null,
            "align_items": null,
            "align_self": null,
            "border": null,
            "bottom": null,
            "display": null,
            "flex": null,
            "flex_flow": null,
            "grid_area": null,
            "grid_auto_columns": null,
            "grid_auto_flow": null,
            "grid_auto_rows": null,
            "grid_column": null,
            "grid_gap": null,
            "grid_row": null,
            "grid_template_areas": null,
            "grid_template_columns": null,
            "grid_template_rows": null,
            "height": null,
            "justify_content": null,
            "justify_items": null,
            "left": null,
            "margin": null,
            "max_height": null,
            "max_width": null,
            "min_height": null,
            "min_width": null,
            "object_fit": null,
            "object_position": null,
            "order": null,
            "overflow": null,
            "overflow_x": null,
            "overflow_y": null,
            "padding": null,
            "right": null,
            "top": null,
            "visibility": null,
            "width": null
          }
        },
        "008c46beead347a99b58ceb164aa3ea6": {
          "model_module": "@jupyter-widgets/controls",
          "model_name": "DescriptionStyleModel",
          "model_module_version": "1.5.0",
          "state": {
            "_model_module": "@jupyter-widgets/controls",
            "_model_module_version": "1.5.0",
            "_model_name": "DescriptionStyleModel",
            "_view_count": null,
            "_view_module": "@jupyter-widgets/base",
            "_view_module_version": "1.2.0",
            "_view_name": "StyleView",
            "description_width": ""
          }
        },
        "0bd933667fcf46cfb64e6c5970d44dbf": {
          "model_module": "@jupyter-widgets/controls",
          "model_name": "HBoxModel",
          "model_module_version": "1.5.0",
          "state": {
            "_dom_classes": [],
            "_model_module": "@jupyter-widgets/controls",
            "_model_module_version": "1.5.0",
            "_model_name": "HBoxModel",
            "_view_count": null,
            "_view_module": "@jupyter-widgets/controls",
            "_view_module_version": "1.5.0",
            "_view_name": "HBoxView",
            "box_style": "",
            "children": [
              "IPY_MODEL_442647b07dde43999e0b57c6f8324e59",
              "IPY_MODEL_77deb068a6304b448ae18ca8284d8518",
              "IPY_MODEL_10a0e30b928a47648830b3a4289ae4df"
            ],
            "layout": "IPY_MODEL_f4a3fea0c8724270b71904714050c283"
          }
        },
        "442647b07dde43999e0b57c6f8324e59": {
          "model_module": "@jupyter-widgets/controls",
          "model_name": "HTMLModel",
          "model_module_version": "1.5.0",
          "state": {
            "_dom_classes": [],
            "_model_module": "@jupyter-widgets/controls",
            "_model_module_version": "1.5.0",
            "_model_name": "HTMLModel",
            "_view_count": null,
            "_view_module": "@jupyter-widgets/controls",
            "_view_module_version": "1.5.0",
            "_view_name": "HTMLView",
            "description": "",
            "description_tooltip": null,
            "layout": "IPY_MODEL_a67a1a5a8b6d44a4b0007132f0b5567e",
            "placeholder": "​",
            "style": "IPY_MODEL_be7fd514a2a448d4b4b6fde79fb96d4e",
            "value": "Downloading (…)lve/main/config.json: 100%"
          }
        },
        "77deb068a6304b448ae18ca8284d8518": {
          "model_module": "@jupyter-widgets/controls",
          "model_name": "FloatProgressModel",
          "model_module_version": "1.5.0",
          "state": {
            "_dom_classes": [],
            "_model_module": "@jupyter-widgets/controls",
            "_model_module_version": "1.5.0",
            "_model_name": "FloatProgressModel",
            "_view_count": null,
            "_view_module": "@jupyter-widgets/controls",
            "_view_module_version": "1.5.0",
            "_view_name": "ProgressView",
            "bar_style": "success",
            "description": "",
            "description_tooltip": null,
            "layout": "IPY_MODEL_aac7557ae6a942d09a032de634c29241",
            "max": 1542,
            "min": 0,
            "orientation": "horizontal",
            "style": "IPY_MODEL_2df6b0f8363f401d8e3603d36d5bed8c",
            "value": 1542
          }
        },
        "10a0e30b928a47648830b3a4289ae4df": {
          "model_module": "@jupyter-widgets/controls",
          "model_name": "HTMLModel",
          "model_module_version": "1.5.0",
          "state": {
            "_dom_classes": [],
            "_model_module": "@jupyter-widgets/controls",
            "_model_module_version": "1.5.0",
            "_model_name": "HTMLModel",
            "_view_count": null,
            "_view_module": "@jupyter-widgets/controls",
            "_view_module_version": "1.5.0",
            "_view_name": "HTMLView",
            "description": "",
            "description_tooltip": null,
            "layout": "IPY_MODEL_8b125941b8794b3b875a344bb84c5db2",
            "placeholder": "​",
            "style": "IPY_MODEL_18e8600955c74faf8d32a806c054cc99",
            "value": " 1.54k/1.54k [00:00&lt;00:00, 42.9kB/s]"
          }
        },
        "f4a3fea0c8724270b71904714050c283": {
          "model_module": "@jupyter-widgets/base",
          "model_name": "LayoutModel",
          "model_module_version": "1.2.0",
          "state": {
            "_model_module": "@jupyter-widgets/base",
            "_model_module_version": "1.2.0",
            "_model_name": "LayoutModel",
            "_view_count": null,
            "_view_module": "@jupyter-widgets/base",
            "_view_module_version": "1.2.0",
            "_view_name": "LayoutView",
            "align_content": null,
            "align_items": null,
            "align_self": null,
            "border": null,
            "bottom": null,
            "display": null,
            "flex": null,
            "flex_flow": null,
            "grid_area": null,
            "grid_auto_columns": null,
            "grid_auto_flow": null,
            "grid_auto_rows": null,
            "grid_column": null,
            "grid_gap": null,
            "grid_row": null,
            "grid_template_areas": null,
            "grid_template_columns": null,
            "grid_template_rows": null,
            "height": null,
            "justify_content": null,
            "justify_items": null,
            "left": null,
            "margin": null,
            "max_height": null,
            "max_width": null,
            "min_height": null,
            "min_width": null,
            "object_fit": null,
            "object_position": null,
            "order": null,
            "overflow": null,
            "overflow_x": null,
            "overflow_y": null,
            "padding": null,
            "right": null,
            "top": null,
            "visibility": null,
            "width": null
          }
        },
        "a67a1a5a8b6d44a4b0007132f0b5567e": {
          "model_module": "@jupyter-widgets/base",
          "model_name": "LayoutModel",
          "model_module_version": "1.2.0",
          "state": {
            "_model_module": "@jupyter-widgets/base",
            "_model_module_version": "1.2.0",
            "_model_name": "LayoutModel",
            "_view_count": null,
            "_view_module": "@jupyter-widgets/base",
            "_view_module_version": "1.2.0",
            "_view_name": "LayoutView",
            "align_content": null,
            "align_items": null,
            "align_self": null,
            "border": null,
            "bottom": null,
            "display": null,
            "flex": null,
            "flex_flow": null,
            "grid_area": null,
            "grid_auto_columns": null,
            "grid_auto_flow": null,
            "grid_auto_rows": null,
            "grid_column": null,
            "grid_gap": null,
            "grid_row": null,
            "grid_template_areas": null,
            "grid_template_columns": null,
            "grid_template_rows": null,
            "height": null,
            "justify_content": null,
            "justify_items": null,
            "left": null,
            "margin": null,
            "max_height": null,
            "max_width": null,
            "min_height": null,
            "min_width": null,
            "object_fit": null,
            "object_position": null,
            "order": null,
            "overflow": null,
            "overflow_x": null,
            "overflow_y": null,
            "padding": null,
            "right": null,
            "top": null,
            "visibility": null,
            "width": null
          }
        },
        "be7fd514a2a448d4b4b6fde79fb96d4e": {
          "model_module": "@jupyter-widgets/controls",
          "model_name": "DescriptionStyleModel",
          "model_module_version": "1.5.0",
          "state": {
            "_model_module": "@jupyter-widgets/controls",
            "_model_module_version": "1.5.0",
            "_model_name": "DescriptionStyleModel",
            "_view_count": null,
            "_view_module": "@jupyter-widgets/base",
            "_view_module_version": "1.2.0",
            "_view_name": "StyleView",
            "description_width": ""
          }
        },
        "aac7557ae6a942d09a032de634c29241": {
          "model_module": "@jupyter-widgets/base",
          "model_name": "LayoutModel",
          "model_module_version": "1.2.0",
          "state": {
            "_model_module": "@jupyter-widgets/base",
            "_model_module_version": "1.2.0",
            "_model_name": "LayoutModel",
            "_view_count": null,
            "_view_module": "@jupyter-widgets/base",
            "_view_module_version": "1.2.0",
            "_view_name": "LayoutView",
            "align_content": null,
            "align_items": null,
            "align_self": null,
            "border": null,
            "bottom": null,
            "display": null,
            "flex": null,
            "flex_flow": null,
            "grid_area": null,
            "grid_auto_columns": null,
            "grid_auto_flow": null,
            "grid_auto_rows": null,
            "grid_column": null,
            "grid_gap": null,
            "grid_row": null,
            "grid_template_areas": null,
            "grid_template_columns": null,
            "grid_template_rows": null,
            "height": null,
            "justify_content": null,
            "justify_items": null,
            "left": null,
            "margin": null,
            "max_height": null,
            "max_width": null,
            "min_height": null,
            "min_width": null,
            "object_fit": null,
            "object_position": null,
            "order": null,
            "overflow": null,
            "overflow_x": null,
            "overflow_y": null,
            "padding": null,
            "right": null,
            "top": null,
            "visibility": null,
            "width": null
          }
        },
        "2df6b0f8363f401d8e3603d36d5bed8c": {
          "model_module": "@jupyter-widgets/controls",
          "model_name": "ProgressStyleModel",
          "model_module_version": "1.5.0",
          "state": {
            "_model_module": "@jupyter-widgets/controls",
            "_model_module_version": "1.5.0",
            "_model_name": "ProgressStyleModel",
            "_view_count": null,
            "_view_module": "@jupyter-widgets/base",
            "_view_module_version": "1.2.0",
            "_view_name": "StyleView",
            "bar_color": null,
            "description_width": ""
          }
        },
        "8b125941b8794b3b875a344bb84c5db2": {
          "model_module": "@jupyter-widgets/base",
          "model_name": "LayoutModel",
          "model_module_version": "1.2.0",
          "state": {
            "_model_module": "@jupyter-widgets/base",
            "_model_module_version": "1.2.0",
            "_model_name": "LayoutModel",
            "_view_count": null,
            "_view_module": "@jupyter-widgets/base",
            "_view_module_version": "1.2.0",
            "_view_name": "LayoutView",
            "align_content": null,
            "align_items": null,
            "align_self": null,
            "border": null,
            "bottom": null,
            "display": null,
            "flex": null,
            "flex_flow": null,
            "grid_area": null,
            "grid_auto_columns": null,
            "grid_auto_flow": null,
            "grid_auto_rows": null,
            "grid_column": null,
            "grid_gap": null,
            "grid_row": null,
            "grid_template_areas": null,
            "grid_template_columns": null,
            "grid_template_rows": null,
            "height": null,
            "justify_content": null,
            "justify_items": null,
            "left": null,
            "margin": null,
            "max_height": null,
            "max_width": null,
            "min_height": null,
            "min_width": null,
            "object_fit": null,
            "object_position": null,
            "order": null,
            "overflow": null,
            "overflow_x": null,
            "overflow_y": null,
            "padding": null,
            "right": null,
            "top": null,
            "visibility": null,
            "width": null
          }
        },
        "18e8600955c74faf8d32a806c054cc99": {
          "model_module": "@jupyter-widgets/controls",
          "model_name": "DescriptionStyleModel",
          "model_module_version": "1.5.0",
          "state": {
            "_model_module": "@jupyter-widgets/controls",
            "_model_module_version": "1.5.0",
            "_model_name": "DescriptionStyleModel",
            "_view_count": null,
            "_view_module": "@jupyter-widgets/base",
            "_view_module_version": "1.2.0",
            "_view_name": "StyleView",
            "description_width": ""
          }
        }
      }
    }
  },
  "cells": [
    {
      "cell_type": "markdown",
      "metadata": {
        "id": "view-in-github",
        "colab_type": "text"
      },
      "source": [
        "<a href=\"https://colab.research.google.com/github/AkhdanFirdaus/bmn-model/blob/main/final_ta_klasifikasi_teks_bert_keras.ipynb\" target=\"_parent\"><img src=\"https://colab.research.google.com/assets/colab-badge.svg\" alt=\"Open In Colab\"/></a>"
      ]
    },
    {
      "cell_type": "markdown",
      "source": [
        "# Klasifikasi Teks Laporan Mobil Dinas dengan BERT"
      ],
      "metadata": {
        "id": "p17CKw6O7IEv"
      }
    },
    {
      "cell_type": "code",
      "source": [
        "import pandas as pd\n",
        "import numpy as np"
      ],
      "metadata": {
        "id": "o2iONI4WK28C"
      },
      "execution_count": 39,
      "outputs": []
    },
    {
      "cell_type": "markdown",
      "source": [
        "### Load Data"
      ],
      "metadata": {
        "id": "fKXBbev7iLai"
      }
    },
    {
      "cell_type": "code",
      "source": [
        "# Mount Drive\n",
        "\n",
        "from google.colab import drive\n",
        "\n",
        "drive.mount('/content/drive')"
      ],
      "metadata": {
        "colab": {
          "base_uri": "https://localhost:8080/"
        },
        "id": "e81-YvWKHEAX",
        "outputId": "62b09fca-d14e-41ef-b823-ad3c5683d900"
      },
      "execution_count": null,
      "outputs": [
        {
          "output_type": "stream",
          "name": "stdout",
          "text": [
            "Mounted at /content/drive\n"
          ]
        }
      ]
    },
    {
      "cell_type": "code",
      "source": [
        "loc_master = '/content/drive/MyDrive/Kuliah/TA Akhdan Musyaffa Firdaus/Bimbingan - Akhdan Musyaffa Firdaus/Dataset/Raw Data/raw_master_kendaraan.csv'\n",
        "loc_invoice = '/content/drive/MyDrive/Kuliah/TA Akhdan Musyaffa Firdaus/Bimbingan - Akhdan Musyaffa Firdaus/Dataset/Raw Data/raw_invoice.csv'\n",
        "loc_sukucadang = '/content/drive/MyDrive/Kuliah/TA Akhdan Musyaffa Firdaus/Bimbingan - Akhdan Musyaffa Firdaus/Dataset/Raw Data/raw_sukucadang.csv'\n",
        "loc_kerusakan = '/content/drive/MyDrive/Kuliah/TA Akhdan Musyaffa Firdaus/Bimbingan - Akhdan Musyaffa Firdaus/Dataset/Raw Data/raw_kategori_kerusakan.csv'\n",
        "loc_laporan = '/content/drive/MyDrive/Kuliah/TA Akhdan Musyaffa Firdaus/Bimbingan - Akhdan Musyaffa Firdaus/Dataset/Raw Data/raw_laporan.csv'\n",
        "\n",
        "data_master_raw = pd.read_csv(loc_master)\n",
        "data_invoice_raw = pd.read_csv(loc_invoice)\n",
        "data_sukucadang_raw = pd.read_csv(loc_sukucadang)\n",
        "data_kerusakan_raw = pd.read_csv(loc_kerusakan)\n",
        "data_laporan_raw = pd.read_csv(loc_laporan)"
      ],
      "metadata": {
        "id": "WCH7ZoHInVdK"
      },
      "execution_count": null,
      "outputs": []
    },
    {
      "cell_type": "markdown",
      "source": [
        "# 4.2 Pemilahan Data"
      ],
      "metadata": {
        "id": "GjJFzctfBVfM"
      }
    },
    {
      "cell_type": "markdown",
      "source": [
        "## 4.2.1 Perbaikan Data"
      ],
      "metadata": {
        "id": "dpD8gEcnBg0_"
      }
    },
    {
      "cell_type": "code",
      "source": [
        "data_invoice_fixed = data_invoice_raw.copy()\n",
        "\n",
        "# Mengisi seluruh data NaN yang sejenis dengan mengisi sesuai karakeristiknya\n",
        "data_invoice_fixed['No'].fillna(method='ffill', inplace=True)\n",
        "data_invoice_fixed['Tanggal'].fillna(method='ffill', inplace=True)\n",
        "data_invoice_fixed['Nama'].fillna(method='ffill', inplace=True)\n",
        "data_invoice_fixed['Harga Satuan'] = data_invoice_fixed['Harga Satuan'].str.replace(',', '').astype(int)\n",
        "data_invoice_fixed['Total'] = data_invoice_fixed['Total'].str.replace(',', '').astype(int)\n",
        "\n",
        "# Mengganti Nama Atribut\n",
        "data_invoice_fixed = data_invoice_fixed.rename(columns={\n",
        "    'No': 'no',\n",
        "    'Tanggal': 'tanggal',\n",
        "    'Nama': 'nama',\n",
        "    'Kategori': 'kategori',\n",
        "    'Uraian Pekerjaan': 'pekerjaan',\n",
        "    'Qty': 'qty',\n",
        "    'Harga Satuan': 'harga',\n",
        "    'Total': 'total',\n",
        "    'Subtotal': 'subtotal',\n",
        "})\n",
        "\n",
        "# Group and sum\n",
        "data_invoice_fixed = data_invoice_fixed.groupby(['nama', 'kategori', 'pekerjaan']).agg({\n",
        "    'qty': 'sum',\n",
        "    'total': 'sum',\n",
        "    'harga': lambda x: round(x.mean())\n",
        "}).reset_index()\n",
        "\n",
        "# Ditujukan untuk visualisasi\n",
        "data_invoice_per_mobil = data_invoice_fixed.groupby(['nama']).agg({'total': 'sum'}).reset_index()\n",
        "data_invoice_per_kategori = data_invoice_fixed.groupby('kategori')['total'].mean().apply(lambda x: round(x)).reset_index()"
      ],
      "metadata": {
        "id": "Ui4qRt54BaOr"
      },
      "execution_count": null,
      "outputs": []
    },
    {
      "cell_type": "code",
      "source": [
        "data_sukucadang_fixed = data_sukucadang_raw.copy()\n",
        "\n",
        "# Mengganti Nama Atribut\n",
        "data_sukucadang_fixed = data_sukucadang_fixed.rename(columns={\n",
        "    'Komponen': 'pekerjaan',\n",
        "    'Keterangan' : 'keterangan_pekerjaan'\n",
        "})"
      ],
      "metadata": {
        "id": "zicQ2u5TB4mQ"
      },
      "execution_count": null,
      "outputs": []
    },
    {
      "cell_type": "code",
      "source": [
        "data_kerusakan_fixed = data_kerusakan_raw.copy()\n",
        "\n",
        "# Menggabungkan data kategori dan data keterangan untuk menambah konteks\n",
        "data_kerusakan_fixed['Keterangan'] =  data_kerusakan_fixed['Keterangan'] + ', ' + data_kerusakan_fixed['Kategori']\n",
        "\n",
        "# Mengganti Nama Atribut\n",
        "data_kerusakan_fixed = data_kerusakan_fixed.rename(columns={\n",
        "    'Kerusakan': 'kerusakan',\n",
        "    'Keterangan': 'keterangan_kerusakan',\n",
        "    'Suku Cadang': 'pekerjaan',\n",
        "    'Kategori':'kategori'\n",
        "})"
      ],
      "metadata": {
        "id": "meqWy3LZB5_H"
      },
      "execution_count": null,
      "outputs": []
    },
    {
      "cell_type": "code",
      "source": [
        "data_laporan_fixed = data_laporan_raw.rename(columns={\n",
        "    'Laporan': 'laporan',\n",
        "    'Masalah': 'masalah'\n",
        "})"
      ],
      "metadata": {
        "id": "GgFURN69B8Qv"
      },
      "execution_count": null,
      "outputs": []
    },
    {
      "cell_type": "code",
      "source": [
        "data_invoice_fixed.head()"
      ],
      "metadata": {
        "colab": {
          "base_uri": "https://localhost:8080/",
          "height": 206
        },
        "id": "KrGo7G6hCGMD",
        "outputId": "fd92f48e-4382-4413-a4d7-5eac81020e39"
      },
      "execution_count": null,
      "outputs": [
        {
          "output_type": "execute_result",
          "data": {
            "text/plain": [
              "                      nama            kategori                  pekerjaan  \\\n",
              "0  Ford Everest B 1700 PQR         Bahan Bakar     Tune Up Purging Diesel   \n",
              "1  Ford Everest B 1700 PQR              Bumper     Perbaikan Bumper Depan   \n",
              "2  Ford Everest B 1700 PQR               Clean              Uccu Cleanner   \n",
              "3  Ford Everest B 1700 PQR  Filter Bahan Bakar  Filter Solar Ford Everest   \n",
              "4  Ford Everest B 1700 PQR          Filter Oli      Filter Oli Ford TB001   \n",
              "\n",
              "   qty    total   harga  \n",
              "0    2  1150000  575000  \n",
              "1    1   250000  250000  \n",
              "2    2   150000   75000  \n",
              "3    1   175000  175000  \n",
              "4    1   150000  150000  "
            ],
            "text/html": [
              "\n",
              "\n",
              "  <div id=\"df-46aa5ab1-25b1-4813-a741-831a604685dd\">\n",
              "    <div class=\"colab-df-container\">\n",
              "      <div>\n",
              "<style scoped>\n",
              "    .dataframe tbody tr th:only-of-type {\n",
              "        vertical-align: middle;\n",
              "    }\n",
              "\n",
              "    .dataframe tbody tr th {\n",
              "        vertical-align: top;\n",
              "    }\n",
              "\n",
              "    .dataframe thead th {\n",
              "        text-align: right;\n",
              "    }\n",
              "</style>\n",
              "<table border=\"1\" class=\"dataframe\">\n",
              "  <thead>\n",
              "    <tr style=\"text-align: right;\">\n",
              "      <th></th>\n",
              "      <th>nama</th>\n",
              "      <th>kategori</th>\n",
              "      <th>pekerjaan</th>\n",
              "      <th>qty</th>\n",
              "      <th>total</th>\n",
              "      <th>harga</th>\n",
              "    </tr>\n",
              "  </thead>\n",
              "  <tbody>\n",
              "    <tr>\n",
              "      <th>0</th>\n",
              "      <td>Ford Everest B 1700 PQR</td>\n",
              "      <td>Bahan Bakar</td>\n",
              "      <td>Tune Up Purging Diesel</td>\n",
              "      <td>2</td>\n",
              "      <td>1150000</td>\n",
              "      <td>575000</td>\n",
              "    </tr>\n",
              "    <tr>\n",
              "      <th>1</th>\n",
              "      <td>Ford Everest B 1700 PQR</td>\n",
              "      <td>Bumper</td>\n",
              "      <td>Perbaikan Bumper Depan</td>\n",
              "      <td>1</td>\n",
              "      <td>250000</td>\n",
              "      <td>250000</td>\n",
              "    </tr>\n",
              "    <tr>\n",
              "      <th>2</th>\n",
              "      <td>Ford Everest B 1700 PQR</td>\n",
              "      <td>Clean</td>\n",
              "      <td>Uccu Cleanner</td>\n",
              "      <td>2</td>\n",
              "      <td>150000</td>\n",
              "      <td>75000</td>\n",
              "    </tr>\n",
              "    <tr>\n",
              "      <th>3</th>\n",
              "      <td>Ford Everest B 1700 PQR</td>\n",
              "      <td>Filter Bahan Bakar</td>\n",
              "      <td>Filter Solar Ford Everest</td>\n",
              "      <td>1</td>\n",
              "      <td>175000</td>\n",
              "      <td>175000</td>\n",
              "    </tr>\n",
              "    <tr>\n",
              "      <th>4</th>\n",
              "      <td>Ford Everest B 1700 PQR</td>\n",
              "      <td>Filter Oli</td>\n",
              "      <td>Filter Oli Ford TB001</td>\n",
              "      <td>1</td>\n",
              "      <td>150000</td>\n",
              "      <td>150000</td>\n",
              "    </tr>\n",
              "  </tbody>\n",
              "</table>\n",
              "</div>\n",
              "      <button class=\"colab-df-convert\" onclick=\"convertToInteractive('df-46aa5ab1-25b1-4813-a741-831a604685dd')\"\n",
              "              title=\"Convert this dataframe to an interactive table.\"\n",
              "              style=\"display:none;\">\n",
              "\n",
              "  <svg xmlns=\"http://www.w3.org/2000/svg\" height=\"24px\"viewBox=\"0 0 24 24\"\n",
              "       width=\"24px\">\n",
              "    <path d=\"M0 0h24v24H0V0z\" fill=\"none\"/>\n",
              "    <path d=\"M18.56 5.44l.94 2.06.94-2.06 2.06-.94-2.06-.94-.94-2.06-.94 2.06-2.06.94zm-11 1L8.5 8.5l.94-2.06 2.06-.94-2.06-.94L8.5 2.5l-.94 2.06-2.06.94zm10 10l.94 2.06.94-2.06 2.06-.94-2.06-.94-.94-2.06-.94 2.06-2.06.94z\"/><path d=\"M17.41 7.96l-1.37-1.37c-.4-.4-.92-.59-1.43-.59-.52 0-1.04.2-1.43.59L10.3 9.45l-7.72 7.72c-.78.78-.78 2.05 0 2.83L4 21.41c.39.39.9.59 1.41.59.51 0 1.02-.2 1.41-.59l7.78-7.78 2.81-2.81c.8-.78.8-2.07 0-2.86zM5.41 20L4 18.59l7.72-7.72 1.47 1.35L5.41 20z\"/>\n",
              "  </svg>\n",
              "      </button>\n",
              "\n",
              "\n",
              "\n",
              "    <div id=\"df-64a46255-832f-4559-84ad-bee0b0b23465\">\n",
              "      <button class=\"colab-df-quickchart\" onclick=\"quickchart('df-64a46255-832f-4559-84ad-bee0b0b23465')\"\n",
              "              title=\"Suggest charts.\"\n",
              "              style=\"display:none;\">\n",
              "\n",
              "<svg xmlns=\"http://www.w3.org/2000/svg\" height=\"24px\"viewBox=\"0 0 24 24\"\n",
              "     width=\"24px\">\n",
              "    <g>\n",
              "        <path d=\"M19 3H5c-1.1 0-2 .9-2 2v14c0 1.1.9 2 2 2h14c1.1 0 2-.9 2-2V5c0-1.1-.9-2-2-2zM9 17H7v-7h2v7zm4 0h-2V7h2v10zm4 0h-2v-4h2v4z\"/>\n",
              "    </g>\n",
              "</svg>\n",
              "      </button>\n",
              "    </div>\n",
              "\n",
              "<style>\n",
              "  .colab-df-quickchart {\n",
              "    background-color: #E8F0FE;\n",
              "    border: none;\n",
              "    border-radius: 50%;\n",
              "    cursor: pointer;\n",
              "    display: none;\n",
              "    fill: #1967D2;\n",
              "    height: 32px;\n",
              "    padding: 0 0 0 0;\n",
              "    width: 32px;\n",
              "  }\n",
              "\n",
              "  .colab-df-quickchart:hover {\n",
              "    background-color: #E2EBFA;\n",
              "    box-shadow: 0px 1px 2px rgba(60, 64, 67, 0.3), 0px 1px 3px 1px rgba(60, 64, 67, 0.15);\n",
              "    fill: #174EA6;\n",
              "  }\n",
              "\n",
              "  [theme=dark] .colab-df-quickchart {\n",
              "    background-color: #3B4455;\n",
              "    fill: #D2E3FC;\n",
              "  }\n",
              "\n",
              "  [theme=dark] .colab-df-quickchart:hover {\n",
              "    background-color: #434B5C;\n",
              "    box-shadow: 0px 1px 3px 1px rgba(0, 0, 0, 0.15);\n",
              "    filter: drop-shadow(0px 1px 2px rgba(0, 0, 0, 0.3));\n",
              "    fill: #FFFFFF;\n",
              "  }\n",
              "</style>\n",
              "\n",
              "    <script>\n",
              "      async function quickchart(key) {\n",
              "        const containerElement = document.querySelector('#' + key);\n",
              "        const charts = await google.colab.kernel.invokeFunction(\n",
              "            'suggestCharts', [key], {});\n",
              "      }\n",
              "    </script>\n",
              "\n",
              "      <script>\n",
              "\n",
              "function displayQuickchartButton(domScope) {\n",
              "  let quickchartButtonEl =\n",
              "    domScope.querySelector('#df-64a46255-832f-4559-84ad-bee0b0b23465 button.colab-df-quickchart');\n",
              "  quickchartButtonEl.style.display =\n",
              "    google.colab.kernel.accessAllowed ? 'block' : 'none';\n",
              "}\n",
              "\n",
              "        displayQuickchartButton(document);\n",
              "      </script>\n",
              "      <style>\n",
              "    .colab-df-container {\n",
              "      display:flex;\n",
              "      flex-wrap:wrap;\n",
              "      gap: 12px;\n",
              "    }\n",
              "\n",
              "    .colab-df-convert {\n",
              "      background-color: #E8F0FE;\n",
              "      border: none;\n",
              "      border-radius: 50%;\n",
              "      cursor: pointer;\n",
              "      display: none;\n",
              "      fill: #1967D2;\n",
              "      height: 32px;\n",
              "      padding: 0 0 0 0;\n",
              "      width: 32px;\n",
              "    }\n",
              "\n",
              "    .colab-df-convert:hover {\n",
              "      background-color: #E2EBFA;\n",
              "      box-shadow: 0px 1px 2px rgba(60, 64, 67, 0.3), 0px 1px 3px 1px rgba(60, 64, 67, 0.15);\n",
              "      fill: #174EA6;\n",
              "    }\n",
              "\n",
              "    [theme=dark] .colab-df-convert {\n",
              "      background-color: #3B4455;\n",
              "      fill: #D2E3FC;\n",
              "    }\n",
              "\n",
              "    [theme=dark] .colab-df-convert:hover {\n",
              "      background-color: #434B5C;\n",
              "      box-shadow: 0px 1px 3px 1px rgba(0, 0, 0, 0.15);\n",
              "      filter: drop-shadow(0px 1px 2px rgba(0, 0, 0, 0.3));\n",
              "      fill: #FFFFFF;\n",
              "    }\n",
              "  </style>\n",
              "\n",
              "      <script>\n",
              "        const buttonEl =\n",
              "          document.querySelector('#df-46aa5ab1-25b1-4813-a741-831a604685dd button.colab-df-convert');\n",
              "        buttonEl.style.display =\n",
              "          google.colab.kernel.accessAllowed ? 'block' : 'none';\n",
              "\n",
              "        async function convertToInteractive(key) {\n",
              "          const element = document.querySelector('#df-46aa5ab1-25b1-4813-a741-831a604685dd');\n",
              "          const dataTable =\n",
              "            await google.colab.kernel.invokeFunction('convertToInteractive',\n",
              "                                                     [key], {});\n",
              "          if (!dataTable) return;\n",
              "\n",
              "          const docLinkHtml = 'Like what you see? Visit the ' +\n",
              "            '<a target=\"_blank\" href=https://colab.research.google.com/notebooks/data_table.ipynb>data table notebook</a>'\n",
              "            + ' to learn more about interactive tables.';\n",
              "          element.innerHTML = '';\n",
              "          dataTable['output_type'] = 'display_data';\n",
              "          await google.colab.output.renderOutput(dataTable, element);\n",
              "          const docLink = document.createElement('div');\n",
              "          docLink.innerHTML = docLinkHtml;\n",
              "          element.appendChild(docLink);\n",
              "        }\n",
              "      </script>\n",
              "    </div>\n",
              "  </div>\n"
            ]
          },
          "metadata": {},
          "execution_count": 18
        }
      ]
    },
    {
      "cell_type": "code",
      "source": [
        "len(data_sukucadang_fixed.drop_duplicates(subset=['pekerjaan']))"
      ],
      "metadata": {
        "colab": {
          "base_uri": "https://localhost:8080/"
        },
        "id": "kgH500VHCEda",
        "outputId": "7bb78686-9e21-4622-e0d5-9202c00d7399"
      },
      "execution_count": null,
      "outputs": [
        {
          "output_type": "execute_result",
          "data": {
            "text/plain": [
              "205"
            ]
          },
          "metadata": {},
          "execution_count": 35
        }
      ]
    },
    {
      "cell_type": "code",
      "source": [
        "data_kerusakan_fixed.head()"
      ],
      "metadata": {
        "colab": {
          "base_uri": "https://localhost:8080/",
          "height": 206
        },
        "id": "AuUc036rCBU1",
        "outputId": "6a890719-47e8-4870-d85b-c8be62c4fdb0"
      },
      "execution_count": null,
      "outputs": [
        {
          "output_type": "execute_result",
          "data": {
            "text/plain": [
              "                    kerusakan  \\\n",
              "0      Masalah Sistem Knalpot   \n",
              "1           Masalah Transmisi   \n",
              "2            Masalah Suspensi   \n",
              "3            Gangguan Listrik   \n",
              "4  Masalah Sistem Bahan Bakar   \n",
              "\n",
              "                                keterangan_kerusakan  \\\n",
              "0  Sistem pembuangan bertanggung jawab untuk meng...   \n",
              "1  Masalah transmisi kendaraan roda empat adalah ...   \n",
              "2  Suspensi kendaraan roda empat adalah kumpulan ...   \n",
              "3  Gangguan listrik pada kendaraan roda empat ter...   \n",
              "4  Masalah sistem bahan bakar kendaraan roda empa...   \n",
              "\n",
              "                                            kategori  \n",
              "0  Filter Udara,Filter Oli,Oli,Bahan Bakar,Cleane...  \n",
              "1  Transmisi,Pemasangan,Kopling,Joint,Bearing,Pem...  \n",
              "2  Shockbreaker,Spooring,Balancing,Hidrolik,Pemas...  \n",
              "3                           Lampu,Listrik,Pemasangan  \n",
              "4  Filter Bahan Bakar,Bahan Bakar,Cleaner,Pemasan...  "
            ],
            "text/html": [
              "\n",
              "\n",
              "  <div id=\"df-dbae15e8-74cc-416a-98f8-86f343cdb11d\">\n",
              "    <div class=\"colab-df-container\">\n",
              "      <div>\n",
              "<style scoped>\n",
              "    .dataframe tbody tr th:only-of-type {\n",
              "        vertical-align: middle;\n",
              "    }\n",
              "\n",
              "    .dataframe tbody tr th {\n",
              "        vertical-align: top;\n",
              "    }\n",
              "\n",
              "    .dataframe thead th {\n",
              "        text-align: right;\n",
              "    }\n",
              "</style>\n",
              "<table border=\"1\" class=\"dataframe\">\n",
              "  <thead>\n",
              "    <tr style=\"text-align: right;\">\n",
              "      <th></th>\n",
              "      <th>kerusakan</th>\n",
              "      <th>keterangan_kerusakan</th>\n",
              "      <th>kategori</th>\n",
              "    </tr>\n",
              "  </thead>\n",
              "  <tbody>\n",
              "    <tr>\n",
              "      <th>0</th>\n",
              "      <td>Masalah Sistem Knalpot</td>\n",
              "      <td>Sistem pembuangan bertanggung jawab untuk meng...</td>\n",
              "      <td>Filter Udara,Filter Oli,Oli,Bahan Bakar,Cleane...</td>\n",
              "    </tr>\n",
              "    <tr>\n",
              "      <th>1</th>\n",
              "      <td>Masalah Transmisi</td>\n",
              "      <td>Masalah transmisi kendaraan roda empat adalah ...</td>\n",
              "      <td>Transmisi,Pemasangan,Kopling,Joint,Bearing,Pem...</td>\n",
              "    </tr>\n",
              "    <tr>\n",
              "      <th>2</th>\n",
              "      <td>Masalah Suspensi</td>\n",
              "      <td>Suspensi kendaraan roda empat adalah kumpulan ...</td>\n",
              "      <td>Shockbreaker,Spooring,Balancing,Hidrolik,Pemas...</td>\n",
              "    </tr>\n",
              "    <tr>\n",
              "      <th>3</th>\n",
              "      <td>Gangguan Listrik</td>\n",
              "      <td>Gangguan listrik pada kendaraan roda empat ter...</td>\n",
              "      <td>Lampu,Listrik,Pemasangan</td>\n",
              "    </tr>\n",
              "    <tr>\n",
              "      <th>4</th>\n",
              "      <td>Masalah Sistem Bahan Bakar</td>\n",
              "      <td>Masalah sistem bahan bakar kendaraan roda empa...</td>\n",
              "      <td>Filter Bahan Bakar,Bahan Bakar,Cleaner,Pemasan...</td>\n",
              "    </tr>\n",
              "  </tbody>\n",
              "</table>\n",
              "</div>\n",
              "      <button class=\"colab-df-convert\" onclick=\"convertToInteractive('df-dbae15e8-74cc-416a-98f8-86f343cdb11d')\"\n",
              "              title=\"Convert this dataframe to an interactive table.\"\n",
              "              style=\"display:none;\">\n",
              "\n",
              "  <svg xmlns=\"http://www.w3.org/2000/svg\" height=\"24px\"viewBox=\"0 0 24 24\"\n",
              "       width=\"24px\">\n",
              "    <path d=\"M0 0h24v24H0V0z\" fill=\"none\"/>\n",
              "    <path d=\"M18.56 5.44l.94 2.06.94-2.06 2.06-.94-2.06-.94-.94-2.06-.94 2.06-2.06.94zm-11 1L8.5 8.5l.94-2.06 2.06-.94-2.06-.94L8.5 2.5l-.94 2.06-2.06.94zm10 10l.94 2.06.94-2.06 2.06-.94-2.06-.94-.94-2.06-.94 2.06-2.06.94z\"/><path d=\"M17.41 7.96l-1.37-1.37c-.4-.4-.92-.59-1.43-.59-.52 0-1.04.2-1.43.59L10.3 9.45l-7.72 7.72c-.78.78-.78 2.05 0 2.83L4 21.41c.39.39.9.59 1.41.59.51 0 1.02-.2 1.41-.59l7.78-7.78 2.81-2.81c.8-.78.8-2.07 0-2.86zM5.41 20L4 18.59l7.72-7.72 1.47 1.35L5.41 20z\"/>\n",
              "  </svg>\n",
              "      </button>\n",
              "\n",
              "\n",
              "\n",
              "    <div id=\"df-22967197-dbeb-45ae-bdd9-e6fbac418651\">\n",
              "      <button class=\"colab-df-quickchart\" onclick=\"quickchart('df-22967197-dbeb-45ae-bdd9-e6fbac418651')\"\n",
              "              title=\"Suggest charts.\"\n",
              "              style=\"display:none;\">\n",
              "\n",
              "<svg xmlns=\"http://www.w3.org/2000/svg\" height=\"24px\"viewBox=\"0 0 24 24\"\n",
              "     width=\"24px\">\n",
              "    <g>\n",
              "        <path d=\"M19 3H5c-1.1 0-2 .9-2 2v14c0 1.1.9 2 2 2h14c1.1 0 2-.9 2-2V5c0-1.1-.9-2-2-2zM9 17H7v-7h2v7zm4 0h-2V7h2v10zm4 0h-2v-4h2v4z\"/>\n",
              "    </g>\n",
              "</svg>\n",
              "      </button>\n",
              "    </div>\n",
              "\n",
              "<style>\n",
              "  .colab-df-quickchart {\n",
              "    background-color: #E8F0FE;\n",
              "    border: none;\n",
              "    border-radius: 50%;\n",
              "    cursor: pointer;\n",
              "    display: none;\n",
              "    fill: #1967D2;\n",
              "    height: 32px;\n",
              "    padding: 0 0 0 0;\n",
              "    width: 32px;\n",
              "  }\n",
              "\n",
              "  .colab-df-quickchart:hover {\n",
              "    background-color: #E2EBFA;\n",
              "    box-shadow: 0px 1px 2px rgba(60, 64, 67, 0.3), 0px 1px 3px 1px rgba(60, 64, 67, 0.15);\n",
              "    fill: #174EA6;\n",
              "  }\n",
              "\n",
              "  [theme=dark] .colab-df-quickchart {\n",
              "    background-color: #3B4455;\n",
              "    fill: #D2E3FC;\n",
              "  }\n",
              "\n",
              "  [theme=dark] .colab-df-quickchart:hover {\n",
              "    background-color: #434B5C;\n",
              "    box-shadow: 0px 1px 3px 1px rgba(0, 0, 0, 0.15);\n",
              "    filter: drop-shadow(0px 1px 2px rgba(0, 0, 0, 0.3));\n",
              "    fill: #FFFFFF;\n",
              "  }\n",
              "</style>\n",
              "\n",
              "    <script>\n",
              "      async function quickchart(key) {\n",
              "        const containerElement = document.querySelector('#' + key);\n",
              "        const charts = await google.colab.kernel.invokeFunction(\n",
              "            'suggestCharts', [key], {});\n",
              "      }\n",
              "    </script>\n",
              "\n",
              "      <script>\n",
              "\n",
              "function displayQuickchartButton(domScope) {\n",
              "  let quickchartButtonEl =\n",
              "    domScope.querySelector('#df-22967197-dbeb-45ae-bdd9-e6fbac418651 button.colab-df-quickchart');\n",
              "  quickchartButtonEl.style.display =\n",
              "    google.colab.kernel.accessAllowed ? 'block' : 'none';\n",
              "}\n",
              "\n",
              "        displayQuickchartButton(document);\n",
              "      </script>\n",
              "      <style>\n",
              "    .colab-df-container {\n",
              "      display:flex;\n",
              "      flex-wrap:wrap;\n",
              "      gap: 12px;\n",
              "    }\n",
              "\n",
              "    .colab-df-convert {\n",
              "      background-color: #E8F0FE;\n",
              "      border: none;\n",
              "      border-radius: 50%;\n",
              "      cursor: pointer;\n",
              "      display: none;\n",
              "      fill: #1967D2;\n",
              "      height: 32px;\n",
              "      padding: 0 0 0 0;\n",
              "      width: 32px;\n",
              "    }\n",
              "\n",
              "    .colab-df-convert:hover {\n",
              "      background-color: #E2EBFA;\n",
              "      box-shadow: 0px 1px 2px rgba(60, 64, 67, 0.3), 0px 1px 3px 1px rgba(60, 64, 67, 0.15);\n",
              "      fill: #174EA6;\n",
              "    }\n",
              "\n",
              "    [theme=dark] .colab-df-convert {\n",
              "      background-color: #3B4455;\n",
              "      fill: #D2E3FC;\n",
              "    }\n",
              "\n",
              "    [theme=dark] .colab-df-convert:hover {\n",
              "      background-color: #434B5C;\n",
              "      box-shadow: 0px 1px 3px 1px rgba(0, 0, 0, 0.15);\n",
              "      filter: drop-shadow(0px 1px 2px rgba(0, 0, 0, 0.3));\n",
              "      fill: #FFFFFF;\n",
              "    }\n",
              "  </style>\n",
              "\n",
              "      <script>\n",
              "        const buttonEl =\n",
              "          document.querySelector('#df-dbae15e8-74cc-416a-98f8-86f343cdb11d button.colab-df-convert');\n",
              "        buttonEl.style.display =\n",
              "          google.colab.kernel.accessAllowed ? 'block' : 'none';\n",
              "\n",
              "        async function convertToInteractive(key) {\n",
              "          const element = document.querySelector('#df-dbae15e8-74cc-416a-98f8-86f343cdb11d');\n",
              "          const dataTable =\n",
              "            await google.colab.kernel.invokeFunction('convertToInteractive',\n",
              "                                                     [key], {});\n",
              "          if (!dataTable) return;\n",
              "\n",
              "          const docLinkHtml = 'Like what you see? Visit the ' +\n",
              "            '<a target=\"_blank\" href=https://colab.research.google.com/notebooks/data_table.ipynb>data table notebook</a>'\n",
              "            + ' to learn more about interactive tables.';\n",
              "          element.innerHTML = '';\n",
              "          dataTable['output_type'] = 'display_data';\n",
              "          await google.colab.output.renderOutput(dataTable, element);\n",
              "          const docLink = document.createElement('div');\n",
              "          docLink.innerHTML = docLinkHtml;\n",
              "          element.appendChild(docLink);\n",
              "        }\n",
              "      </script>\n",
              "    </div>\n",
              "  </div>\n"
            ]
          },
          "metadata": {},
          "execution_count": 20
        }
      ]
    },
    {
      "cell_type": "code",
      "source": [
        "data_laporan_fixed.head()"
      ],
      "metadata": {
        "colab": {
          "base_uri": "https://localhost:8080/",
          "height": 206
        },
        "id": "u5s6nyPLCAfs",
        "outputId": "adb8e6e6-9cbc-45d7-9d2f-f48a31e53a87"
      },
      "execution_count": null,
      "outputs": [
        {
          "output_type": "execute_result",
          "data": {
            "text/plain": [
              "                                             laporan  \\\n",
              "0  Saya melihat indikator check engine menyala di...   \n",
              "1  Saat saya menginjak rem, terdengar suara berde...   \n",
              "2  Saya merasakan getaran yang tidak normal saat ...   \n",
              "3  Tombol power window di pintu pengemudi tidak b...   \n",
              "4  Ada bau tidak sedap yang muncul dari ventilasi...   \n",
              "\n",
              "                       masalah  \n",
              "0                Masalah Mesin  \n",
              "1                Kegagalan Rem  \n",
              "2  Masalah Kemudi, Masalah Ban  \n",
              "3             Gangguan Listrik  \n",
              "4     Masalah Sistem Pendingin  "
            ],
            "text/html": [
              "\n",
              "\n",
              "  <div id=\"df-7fa310db-462b-44a6-9880-8f8e549f55a5\">\n",
              "    <div class=\"colab-df-container\">\n",
              "      <div>\n",
              "<style scoped>\n",
              "    .dataframe tbody tr th:only-of-type {\n",
              "        vertical-align: middle;\n",
              "    }\n",
              "\n",
              "    .dataframe tbody tr th {\n",
              "        vertical-align: top;\n",
              "    }\n",
              "\n",
              "    .dataframe thead th {\n",
              "        text-align: right;\n",
              "    }\n",
              "</style>\n",
              "<table border=\"1\" class=\"dataframe\">\n",
              "  <thead>\n",
              "    <tr style=\"text-align: right;\">\n",
              "      <th></th>\n",
              "      <th>laporan</th>\n",
              "      <th>masalah</th>\n",
              "    </tr>\n",
              "  </thead>\n",
              "  <tbody>\n",
              "    <tr>\n",
              "      <th>0</th>\n",
              "      <td>Saya melihat indikator check engine menyala di...</td>\n",
              "      <td>Masalah Mesin</td>\n",
              "    </tr>\n",
              "    <tr>\n",
              "      <th>1</th>\n",
              "      <td>Saat saya menginjak rem, terdengar suara berde...</td>\n",
              "      <td>Kegagalan Rem</td>\n",
              "    </tr>\n",
              "    <tr>\n",
              "      <th>2</th>\n",
              "      <td>Saya merasakan getaran yang tidak normal saat ...</td>\n",
              "      <td>Masalah Kemudi, Masalah Ban</td>\n",
              "    </tr>\n",
              "    <tr>\n",
              "      <th>3</th>\n",
              "      <td>Tombol power window di pintu pengemudi tidak b...</td>\n",
              "      <td>Gangguan Listrik</td>\n",
              "    </tr>\n",
              "    <tr>\n",
              "      <th>4</th>\n",
              "      <td>Ada bau tidak sedap yang muncul dari ventilasi...</td>\n",
              "      <td>Masalah Sistem Pendingin</td>\n",
              "    </tr>\n",
              "  </tbody>\n",
              "</table>\n",
              "</div>\n",
              "      <button class=\"colab-df-convert\" onclick=\"convertToInteractive('df-7fa310db-462b-44a6-9880-8f8e549f55a5')\"\n",
              "              title=\"Convert this dataframe to an interactive table.\"\n",
              "              style=\"display:none;\">\n",
              "\n",
              "  <svg xmlns=\"http://www.w3.org/2000/svg\" height=\"24px\"viewBox=\"0 0 24 24\"\n",
              "       width=\"24px\">\n",
              "    <path d=\"M0 0h24v24H0V0z\" fill=\"none\"/>\n",
              "    <path d=\"M18.56 5.44l.94 2.06.94-2.06 2.06-.94-2.06-.94-.94-2.06-.94 2.06-2.06.94zm-11 1L8.5 8.5l.94-2.06 2.06-.94-2.06-.94L8.5 2.5l-.94 2.06-2.06.94zm10 10l.94 2.06.94-2.06 2.06-.94-2.06-.94-.94-2.06-.94 2.06-2.06.94z\"/><path d=\"M17.41 7.96l-1.37-1.37c-.4-.4-.92-.59-1.43-.59-.52 0-1.04.2-1.43.59L10.3 9.45l-7.72 7.72c-.78.78-.78 2.05 0 2.83L4 21.41c.39.39.9.59 1.41.59.51 0 1.02-.2 1.41-.59l7.78-7.78 2.81-2.81c.8-.78.8-2.07 0-2.86zM5.41 20L4 18.59l7.72-7.72 1.47 1.35L5.41 20z\"/>\n",
              "  </svg>\n",
              "      </button>\n",
              "\n",
              "\n",
              "\n",
              "    <div id=\"df-dcb6fdfb-4c5c-4438-b1f5-54eafc13b478\">\n",
              "      <button class=\"colab-df-quickchart\" onclick=\"quickchart('df-dcb6fdfb-4c5c-4438-b1f5-54eafc13b478')\"\n",
              "              title=\"Suggest charts.\"\n",
              "              style=\"display:none;\">\n",
              "\n",
              "<svg xmlns=\"http://www.w3.org/2000/svg\" height=\"24px\"viewBox=\"0 0 24 24\"\n",
              "     width=\"24px\">\n",
              "    <g>\n",
              "        <path d=\"M19 3H5c-1.1 0-2 .9-2 2v14c0 1.1.9 2 2 2h14c1.1 0 2-.9 2-2V5c0-1.1-.9-2-2-2zM9 17H7v-7h2v7zm4 0h-2V7h2v10zm4 0h-2v-4h2v4z\"/>\n",
              "    </g>\n",
              "</svg>\n",
              "      </button>\n",
              "    </div>\n",
              "\n",
              "<style>\n",
              "  .colab-df-quickchart {\n",
              "    background-color: #E8F0FE;\n",
              "    border: none;\n",
              "    border-radius: 50%;\n",
              "    cursor: pointer;\n",
              "    display: none;\n",
              "    fill: #1967D2;\n",
              "    height: 32px;\n",
              "    padding: 0 0 0 0;\n",
              "    width: 32px;\n",
              "  }\n",
              "\n",
              "  .colab-df-quickchart:hover {\n",
              "    background-color: #E2EBFA;\n",
              "    box-shadow: 0px 1px 2px rgba(60, 64, 67, 0.3), 0px 1px 3px 1px rgba(60, 64, 67, 0.15);\n",
              "    fill: #174EA6;\n",
              "  }\n",
              "\n",
              "  [theme=dark] .colab-df-quickchart {\n",
              "    background-color: #3B4455;\n",
              "    fill: #D2E3FC;\n",
              "  }\n",
              "\n",
              "  [theme=dark] .colab-df-quickchart:hover {\n",
              "    background-color: #434B5C;\n",
              "    box-shadow: 0px 1px 3px 1px rgba(0, 0, 0, 0.15);\n",
              "    filter: drop-shadow(0px 1px 2px rgba(0, 0, 0, 0.3));\n",
              "    fill: #FFFFFF;\n",
              "  }\n",
              "</style>\n",
              "\n",
              "    <script>\n",
              "      async function quickchart(key) {\n",
              "        const containerElement = document.querySelector('#' + key);\n",
              "        const charts = await google.colab.kernel.invokeFunction(\n",
              "            'suggestCharts', [key], {});\n",
              "      }\n",
              "    </script>\n",
              "\n",
              "      <script>\n",
              "\n",
              "function displayQuickchartButton(domScope) {\n",
              "  let quickchartButtonEl =\n",
              "    domScope.querySelector('#df-dcb6fdfb-4c5c-4438-b1f5-54eafc13b478 button.colab-df-quickchart');\n",
              "  quickchartButtonEl.style.display =\n",
              "    google.colab.kernel.accessAllowed ? 'block' : 'none';\n",
              "}\n",
              "\n",
              "        displayQuickchartButton(document);\n",
              "      </script>\n",
              "      <style>\n",
              "    .colab-df-container {\n",
              "      display:flex;\n",
              "      flex-wrap:wrap;\n",
              "      gap: 12px;\n",
              "    }\n",
              "\n",
              "    .colab-df-convert {\n",
              "      background-color: #E8F0FE;\n",
              "      border: none;\n",
              "      border-radius: 50%;\n",
              "      cursor: pointer;\n",
              "      display: none;\n",
              "      fill: #1967D2;\n",
              "      height: 32px;\n",
              "      padding: 0 0 0 0;\n",
              "      width: 32px;\n",
              "    }\n",
              "\n",
              "    .colab-df-convert:hover {\n",
              "      background-color: #E2EBFA;\n",
              "      box-shadow: 0px 1px 2px rgba(60, 64, 67, 0.3), 0px 1px 3px 1px rgba(60, 64, 67, 0.15);\n",
              "      fill: #174EA6;\n",
              "    }\n",
              "\n",
              "    [theme=dark] .colab-df-convert {\n",
              "      background-color: #3B4455;\n",
              "      fill: #D2E3FC;\n",
              "    }\n",
              "\n",
              "    [theme=dark] .colab-df-convert:hover {\n",
              "      background-color: #434B5C;\n",
              "      box-shadow: 0px 1px 3px 1px rgba(0, 0, 0, 0.15);\n",
              "      filter: drop-shadow(0px 1px 2px rgba(0, 0, 0, 0.3));\n",
              "      fill: #FFFFFF;\n",
              "    }\n",
              "  </style>\n",
              "\n",
              "      <script>\n",
              "        const buttonEl =\n",
              "          document.querySelector('#df-7fa310db-462b-44a6-9880-8f8e549f55a5 button.colab-df-convert');\n",
              "        buttonEl.style.display =\n",
              "          google.colab.kernel.accessAllowed ? 'block' : 'none';\n",
              "\n",
              "        async function convertToInteractive(key) {\n",
              "          const element = document.querySelector('#df-7fa310db-462b-44a6-9880-8f8e549f55a5');\n",
              "          const dataTable =\n",
              "            await google.colab.kernel.invokeFunction('convertToInteractive',\n",
              "                                                     [key], {});\n",
              "          if (!dataTable) return;\n",
              "\n",
              "          const docLinkHtml = 'Like what you see? Visit the ' +\n",
              "            '<a target=\"_blank\" href=https://colab.research.google.com/notebooks/data_table.ipynb>data table notebook</a>'\n",
              "            + ' to learn more about interactive tables.';\n",
              "          element.innerHTML = '';\n",
              "          dataTable['output_type'] = 'display_data';\n",
              "          await google.colab.output.renderOutput(dataTable, element);\n",
              "          const docLink = document.createElement('div');\n",
              "          docLink.innerHTML = docLinkHtml;\n",
              "          element.appendChild(docLink);\n",
              "        }\n",
              "      </script>\n",
              "    </div>\n",
              "  </div>\n"
            ]
          },
          "metadata": {},
          "execution_count": 21
        }
      ]
    },
    {
      "cell_type": "markdown",
      "source": [
        "# 4.3 Data Preparation"
      ],
      "metadata": {
        "id": "k3kcXp8wZPbT"
      }
    },
    {
      "cell_type": "markdown",
      "source": [
        "## 4.3.1 Pemilahan Data"
      ],
      "metadata": {
        "id": "DnbLk8zFapDr"
      }
    },
    {
      "cell_type": "markdown",
      "source": [
        "### Perbaikan Data"
      ],
      "metadata": {
        "id": "S4C8djJfPieR"
      }
    },
    {
      "cell_type": "code",
      "source": [],
      "metadata": {
        "id": "ZueYa_g8me1K"
      },
      "execution_count": null,
      "outputs": []
    },
    {
      "cell_type": "markdown",
      "source": [
        "## 4.3.2 Pembersihan Data"
      ],
      "metadata": {
        "id": "VM5ADuHIa1vN"
      }
    },
    {
      "cell_type": "code",
      "source": [
        "sample_text = 'Mesin kendaraan terdengar berisik dan tidak stabil saat digunakan.'"
      ],
      "metadata": {
        "id": "jlXC6StaWCaU"
      },
      "execution_count": 93,
      "outputs": []
    },
    {
      "cell_type": "markdown",
      "source": [
        "### Casefolding"
      ],
      "metadata": {
        "id": "XQdtMgWcOu9P"
      }
    },
    {
      "cell_type": "code",
      "source": [
        "def casefolding(val):\n",
        "  return str(val).lower()"
      ],
      "metadata": {
        "id": "uC_3iCTYlv6S"
      },
      "execution_count": 94,
      "outputs": []
    },
    {
      "cell_type": "code",
      "source": [
        "sample_text = casefolding(sample_text)\n",
        "print(sample_text)"
      ],
      "metadata": {
        "colab": {
          "base_uri": "https://localhost:8080/"
        },
        "id": "74HPeZ93TO4r",
        "outputId": "9a44bb4b-0a58-49a6-9d14-d493e1c96dec"
      },
      "execution_count": 95,
      "outputs": [
        {
          "output_type": "stream",
          "name": "stdout",
          "text": [
            "mesin kendaraan terdengar berisik dan tidak stabil saat digunakan.\n"
          ]
        }
      ]
    },
    {
      "cell_type": "markdown",
      "source": [
        "### Cleaning"
      ],
      "metadata": {
        "id": "3w8LsS7Rtq6a"
      }
    },
    {
      "cell_type": "code",
      "source": [
        "import re\n",
        "\n",
        "def clearformat(val):\n",
        "  # Membersihkan Whitespace\n",
        "  val = re.sub(r'\\s+', ' ', val)\n",
        "\n",
        "  # Hanya Mengambil karakter alfanumerik\n",
        "  val = re.sub(\"[^a-zA-Z0-9]\", \" \", val)\n",
        "\n",
        "  return val"
      ],
      "metadata": {
        "id": "mxK0OMdqtp53"
      },
      "execution_count": 96,
      "outputs": []
    },
    {
      "cell_type": "code",
      "source": [
        "sample_text = clearformat(sample_text)\n",
        "print(sample_text)"
      ],
      "metadata": {
        "colab": {
          "base_uri": "https://localhost:8080/"
        },
        "id": "yoEwFGDwWXu9",
        "outputId": "03badfcd-62d5-4bc4-e6e9-323f00414ba9"
      },
      "execution_count": 97,
      "outputs": [
        {
          "output_type": "stream",
          "name": "stdout",
          "text": [
            "mesin kendaraan terdengar berisik dan tidak stabil saat digunakan \n"
          ]
        }
      ]
    },
    {
      "cell_type": "markdown",
      "source": [
        "### Stemming"
      ],
      "metadata": {
        "id": "OCK7voEvO8Qx"
      }
    },
    {
      "cell_type": "markdown",
      "source": [
        "Hanya dilakuan pada\n",
        "- data sukucadang = Keterangan Pekerjaan\n",
        "- data kerusakan = Keterangan Kerusakan\n",
        "- data level = keterangan level\n",
        "\n"
      ],
      "metadata": {
        "id": "oN9v6w_DHxud"
      }
    },
    {
      "cell_type": "code",
      "source": [
        "pip install Sastrawi"
      ],
      "metadata": {
        "id": "kPnEFyJucycn",
        "colab": {
          "base_uri": "https://localhost:8080/"
        },
        "outputId": "e924e4a7-2070-432b-a537-a7ba3975d050"
      },
      "execution_count": 98,
      "outputs": [
        {
          "output_type": "stream",
          "name": "stdout",
          "text": [
            "Requirement already satisfied: Sastrawi in /usr/local/lib/python3.10/dist-packages (1.0.1)\n"
          ]
        }
      ]
    },
    {
      "cell_type": "code",
      "source": [
        "from Sastrawi.Stemmer.StemmerFactory import StemmerFactory\n",
        "\n",
        "stemmer = StemmerFactory().create_stemmer()\n",
        "\n",
        "def stemming(val):\n",
        "  return stemmer.stem(str(val))"
      ],
      "metadata": {
        "id": "Ha_x_6GQ_GrC"
      },
      "execution_count": 99,
      "outputs": []
    },
    {
      "cell_type": "code",
      "source": [
        "sample_text = stemming(sample_text)\n",
        "print(sample_text)"
      ],
      "metadata": {
        "colab": {
          "base_uri": "https://localhost:8080/"
        },
        "id": "R5WNCoBhW5Dq",
        "outputId": "c09e7d5d-d615-4231-bb0d-55b10aeeeafb"
      },
      "execution_count": 100,
      "outputs": [
        {
          "output_type": "stream",
          "name": "stdout",
          "text": [
            "mesin kendara dengar berisik dan tidak stabil saat guna\n"
          ]
        }
      ]
    },
    {
      "cell_type": "markdown",
      "source": [
        "### Stopword Removal"
      ],
      "metadata": {
        "id": "ivTrXNzOPAGz"
      }
    },
    {
      "cell_type": "markdown",
      "source": [
        "Hanya dilakuan pada\n",
        "- data sukucadang = Keterangan Pekerjaan\n",
        "- data kerusakan = Keterangan Kerusakan\n",
        "- data level = keterangan level"
      ],
      "metadata": {
        "id": "kP2gFn1uIJFY"
      }
    },
    {
      "cell_type": "code",
      "source": [
        "from Sastrawi.StopWordRemover.StopWordRemoverFactory import StopWordRemoverFactory\n",
        "\n",
        "stopword_remover = StopWordRemoverFactory().create_stop_word_remover()\n",
        "\n",
        "def stopwordremove(val):\n",
        "  return stopword_remover.remove(str(val))"
      ],
      "metadata": {
        "id": "r41OvxAwfNqo"
      },
      "execution_count": 101,
      "outputs": []
    },
    {
      "cell_type": "code",
      "source": [
        "sample_text = stopwordremove(sample_text)\n",
        "print(sample_text)"
      ],
      "metadata": {
        "colab": {
          "base_uri": "https://localhost:8080/"
        },
        "id": "4XPr8A-EXRon",
        "outputId": "a655ec78-633d-4e0a-e739-7f8f78585a66"
      },
      "execution_count": 102,
      "outputs": [
        {
          "output_type": "stream",
          "name": "stdout",
          "text": [
            "mesin kendara dengar berisik tidak stabil guna\n"
          ]
        }
      ]
    },
    {
      "cell_type": "markdown",
      "source": [
        "### Tokenisasi"
      ],
      "metadata": {
        "id": "vNj30WPI3paV"
      }
    },
    {
      "cell_type": "code",
      "source": [
        "!pip install transformers tensorflow"
      ],
      "metadata": {
        "id": "G-GM9f6TfEkf"
      },
      "execution_count": 107,
      "outputs": []
    },
    {
      "cell_type": "code",
      "source": [
        "from transformers import BertTokenizer, TFBertModel\n",
        "import tensorflow as tf"
      ],
      "metadata": {
        "id": "kKqMT8z7fBLr"
      },
      "execution_count": 108,
      "outputs": []
    },
    {
      "cell_type": "code",
      "source": [
        "BERT_NAME = 'indobenchmark/indobert-lite-base-p1'\n",
        "bert_tokenizer = BertTokenizer.from_pretrained(BERT_NAME)"
      ],
      "metadata": {
        "colab": {
          "base_uri": "https://localhost:8080/",
          "height": 217,
          "referenced_widgets": [
            "71eb9e3d03dc45d5b8acacaf1124840c",
            "86653eced662446ab96e281f2ec1c76d",
            "e5568f0fe37346df9001fa72916e183a",
            "419ae2de79594a87a2ebb14e753d1289",
            "6246b465fe8845ecb8fcd69d4b83c7cb",
            "65f37ed5f19b4cb6a73cadf1be239d7b",
            "33a3ff1b11384e9b842c82e05d54cf10",
            "80a50f74f8f9453991e45cb55c1d0ac3",
            "f38d2b7978d64b8794472b129a3510fd",
            "f71592a01a4f403ca0db048aa9fa9466",
            "a882772080c642a6adfad585cbdf007b",
            "bb447501a3334156874f0144bfbe6030",
            "2ce6e91108404e1a9cbc095ac78411ab",
            "9b02756504c040b681320057eb8f9214",
            "fcd637a58479407fba1cd3c3235aa569",
            "96badc1d0f194f1d97fd37bd9cb79648",
            "af428bfd40cd4b6ebb07e1606d026c1e",
            "d796016bd9c54560a7a6a62170470928",
            "210c870affd2421aafe8cf19ddcc7cfc",
            "d8649a068114456584a8c3ff0b6e2a1f",
            "7a3bcdb2734c49e3b8480afd50754c3e",
            "84dfbd37c7c94445858d0ad3907b8b13",
            "7b886c0cfbe64389a733f9ed7c52f96a",
            "c1ce1621b4d34671939c535bac7c2925",
            "542b60e3b7434d2080833b90fc9d019a",
            "1e2e9f74970b4ddb9428043031699249",
            "ece281e853e044db92c0842156c594be",
            "6d636fda929d44ac95dabaa269f41709",
            "2f4a4fbfb7d347999a570a20d96e83fc",
            "746345f6a8cf469f8b04fa559d586b77",
            "dc7087e621044404babead1fef611d0f",
            "09e0614323a64d35a058b658fadc842b",
            "008c46beead347a99b58ceb164aa3ea6",
            "0bd933667fcf46cfb64e6c5970d44dbf",
            "442647b07dde43999e0b57c6f8324e59",
            "77deb068a6304b448ae18ca8284d8518",
            "10a0e30b928a47648830b3a4289ae4df",
            "f4a3fea0c8724270b71904714050c283",
            "a67a1a5a8b6d44a4b0007132f0b5567e",
            "be7fd514a2a448d4b4b6fde79fb96d4e",
            "aac7557ae6a942d09a032de634c29241",
            "2df6b0f8363f401d8e3603d36d5bed8c",
            "8b125941b8794b3b875a344bb84c5db2",
            "18e8600955c74faf8d32a806c054cc99"
          ]
        },
        "id": "ghz7gqYMevbx",
        "outputId": "ff74c513-94a7-42a9-d858-11080a12072b"
      },
      "execution_count": 20,
      "outputs": [
        {
          "output_type": "display_data",
          "data": {
            "text/plain": [
              "Downloading (…)solve/main/vocab.txt:   0%|          | 0.00/225k [00:00<?, ?B/s]"
            ],
            "application/vnd.jupyter.widget-view+json": {
              "version_major": 2,
              "version_minor": 0,
              "model_id": "71eb9e3d03dc45d5b8acacaf1124840c"
            }
          },
          "metadata": {}
        },
        {
          "output_type": "display_data",
          "data": {
            "text/plain": [
              "Downloading (…)cial_tokens_map.json:   0%|          | 0.00/112 [00:00<?, ?B/s]"
            ],
            "application/vnd.jupyter.widget-view+json": {
              "version_major": 2,
              "version_minor": 0,
              "model_id": "bb447501a3334156874f0144bfbe6030"
            }
          },
          "metadata": {}
        },
        {
          "output_type": "display_data",
          "data": {
            "text/plain": [
              "Downloading (…)okenizer_config.json:   0%|          | 0.00/2.00 [00:00<?, ?B/s]"
            ],
            "application/vnd.jupyter.widget-view+json": {
              "version_major": 2,
              "version_minor": 0,
              "model_id": "7b886c0cfbe64389a733f9ed7c52f96a"
            }
          },
          "metadata": {}
        },
        {
          "output_type": "display_data",
          "data": {
            "text/plain": [
              "Downloading (…)lve/main/config.json:   0%|          | 0.00/1.54k [00:00<?, ?B/s]"
            ],
            "application/vnd.jupyter.widget-view+json": {
              "version_major": 2,
              "version_minor": 0,
              "model_id": "0bd933667fcf46cfb64e6c5970d44dbf"
            }
          },
          "metadata": {}
        },
        {
          "output_type": "stream",
          "name": "stderr",
          "text": [
            "The tokenizer class you load from this checkpoint is not the same type as the class this function is called from. It may result in unexpected tokenization. \n",
            "The tokenizer class you load from this checkpoint is 'AlbertTokenizerFast'. \n",
            "The class this function is called from is 'BertTokenizer'.\n"
          ]
        }
      ]
    },
    {
      "cell_type": "code",
      "source": [
        "def tokenisasi(tokenizer, max_len, sentences):\n",
        "  input_ids, attention_mask = [], []\n",
        "  for sentence in sentences:\n",
        "    # proses preprocessing sebelumnya akan dimasukkan disini\n",
        "    tokenized = tokenizer.encode_plus(\n",
        "        sentence,\n",
        "        add_special_tokens=True,\n",
        "        max_length=max_len,\n",
        "        padding='max_length',\n",
        "        truncation=True,\n",
        "        return_attention_mask=True,\n",
        "        return_token_type_ids=False,\n",
        "        return_tensors='tf'\n",
        "    )\n",
        "\n",
        "    input_ids.append(tokenized['input_ids'])\n",
        "    attention_mask.append(tokenized['attention_mask'])\n",
        "\n",
        "  return {\n",
        "    'input_ids': tf.convert_to_tensor(np.asarray(input_ids).squeeze(), dtype=tf.int32),\n",
        "    'attention_mask': tf.convert_to_tensor(np.asarray(attention_mask).squeeze(), dtype=tf.int32)\n",
        "  }"
      ],
      "metadata": {
        "id": "4phC5dGFmJx1"
      },
      "execution_count": 109,
      "outputs": []
    },
    {
      "cell_type": "code",
      "source": [
        "hasil_tokenisasi = tokenisasi(bert_tokenizer, 256, [\n",
        "  sample_text\n",
        "])\n",
        "\n",
        "print('shape = ', hasil_tokenisasi['input_ids'].shape, hasil_tokenisasi['attention_mask'].shape)\n",
        "print('\\ninput_ids = ', hasil_tokenisasi['input_ids'][:20])\n",
        "print('attention_mask = ', hasil_tokenisasi['attention_mask'][:20])\n",
        "print('\\ntoken = ', bert_tokenizer.convert_ids_to_tokens(hasil_tokenisasi['input_ids'][:20]))"
      ],
      "metadata": {
        "colab": {
          "base_uri": "https://localhost:8080/"
        },
        "id": "ywh0Z5ysfOvx",
        "outputId": "028d5168-ceff-4b4b-8869-088fd58dcfe8"
      },
      "execution_count": 116,
      "outputs": [
        {
          "output_type": "stream",
          "name": "stdout",
          "text": [
            "shape =  (256,) (256,)\n",
            "\n",
            "input_ids =  tf.Tensor(\n",
            "[    2  1315  1596    85  5595 20872   119  4860  3208     3     0     0\n",
            "     0     0     0     0     0     0     0     0], shape=(20,), dtype=int32)\n",
            "attention_mask =  tf.Tensor([1 1 1 1 1 1 1 1 1 1 0 0 0 0 0 0 0 0 0 0], shape=(20,), dtype=int32)\n",
            "\n",
            "token =  ['[CLS]', 'mesin', 'kend', '##ara', 'dengar', 'berisik', 'tidak', 'stabil', 'guna', '[SEP]', '[PAD]', '[PAD]', '[PAD]', '[PAD]', '[PAD]', '[PAD]', '[PAD]', '[PAD]', '[PAD]', '[PAD]']\n"
          ]
        }
      ]
    },
    {
      "cell_type": "markdown",
      "source": [
        "## 4.3.3 Konstruksi Data"
      ],
      "metadata": {
        "id": "f0dhHfUda7ZF"
      }
    },
    {
      "cell_type": "markdown",
      "source": [
        "### Penentuan Fitur"
      ],
      "metadata": {
        "id": "FZpaJMOX3ZYT"
      }
    },
    {
      "cell_type": "markdown",
      "source": [
        "Akan dibuat sebuah dataset untuk mendeteksi konteks\n",
        "1. menggabungkan data master dan invoice berdasar nomor polisi\n",
        "2. menggabungkan data diatas dengan sukucadang berdasar pekerjaan"
      ],
      "metadata": {
        "id": "8Cb22KnnIoMY"
      }
    },
    {
      "cell_type": "markdown",
      "source": [
        "### Pemilihan Atribut"
      ],
      "metadata": {
        "id": "uLBKm1v1k72N"
      }
    },
    {
      "cell_type": "code",
      "source": [],
      "metadata": {
        "id": "i3SNV4exk_Gk"
      },
      "execution_count": null,
      "outputs": []
    },
    {
      "cell_type": "markdown",
      "source": [
        "## 4.3.4 Pelabelan Data"
      ],
      "metadata": {
        "id": "11HpoRWsa_P0"
      }
    },
    {
      "cell_type": "markdown",
      "source": [
        "### Penentuan Label"
      ],
      "metadata": {
        "id": "9OJtf64G4AUN"
      }
    },
    {
      "cell_type": "code",
      "source": [
        "# Ekstraksi label kerusakan dan level dari dataset\n",
        "LABELS = data_kerusakan_construct['kerusakan'].tolist()\n",
        "print(\"Label kerusakan = \", LABELS)"
      ],
      "metadata": {
        "id": "xcek_Vp1lT-p"
      },
      "execution_count": null,
      "outputs": []
    },
    {
      "cell_type": "markdown",
      "source": [
        "### Penerapan Label"
      ],
      "metadata": {
        "id": "IsfQz2tW4pmb"
      }
    },
    {
      "cell_type": "code",
      "source": [
        "# Menambahkan Kolom Label\n",
        "data_invoice_labeled = data_invoice_construct.copy()\n",
        "data_invoice_labeled[LABELS] = 0\n",
        "data_invoice_labeled.head()"
      ],
      "metadata": {
        "id": "ly4cXLHilTXF"
      },
      "execution_count": null,
      "outputs": []
    },
    {
      "cell_type": "code",
      "source": [
        "# Menambahkan Kolom Label\n",
        "data_laporan_labeled = data_laporan_construct.copy()\n",
        "data_laporan_labeled[LABELS] = 0\n",
        "data_laporan_labeled.head()"
      ],
      "metadata": {
        "id": "a5HTCuqex_QE"
      },
      "execution_count": null,
      "outputs": []
    },
    {
      "cell_type": "code",
      "source": [
        "# Fungsi Labeling\n",
        "def labeling(val, dataset, key):\n",
        "  labels = {}\n",
        "  konteks = ''\n",
        "  for index, row in dataset.iterrows():\n",
        "    match_condition = 1 if val in row[key].split(',') else 0\n",
        "    konteks += ' ' + row['konteks'] if match_condition == 1 else \"\"\n",
        "    labels.update({row['kerusakan']: match_condition})\n",
        "\n",
        "  labels.update({'konteks': konteks})\n",
        "  return labels"
      ],
      "metadata": {
        "id": "SUVU_ExVzHVy"
      },
      "execution_count": null,
      "outputs": []
    },
    {
      "cell_type": "code",
      "source": [
        "for index, row in data_invoice_labeled.iterrows():\n",
        "    update_value = labeling(row['kategori'], data_invoice_labeled, 'kategori')\n",
        "    data_invoice_labeled.loc[index, list(update_value.keys())] = list(update_value.values())"
      ],
      "metadata": {
        "id": "xapl--18zPnP"
      },
      "execution_count": null,
      "outputs": []
    },
    {
      "cell_type": "code",
      "source": [
        "for index, row in data_laporan_labeled.iterrows():\n",
        "    update_value = labeling(row['masalah'], data_laporan_labeled, 'masalah')\n",
        "    data_laporan_labeled.loc[index, list(update_value.keys())] = list(update_value.values())"
      ],
      "metadata": {
        "id": "_qpUqulLzRsw"
      },
      "execution_count": null,
      "outputs": []
    },
    {
      "cell_type": "markdown",
      "source": [
        "## 4.3.5 Integrasi Data"
      ],
      "metadata": {
        "id": "oqbLHnGObDDr"
      }
    },
    {
      "cell_type": "markdown",
      "source": [
        "### Penggabungan Data"
      ],
      "metadata": {
        "id": "CXIresmr4QI9"
      }
    },
    {
      "cell_type": "code",
      "source": [],
      "metadata": {
        "id": "036JNAq2QGvl"
      },
      "execution_count": null,
      "outputs": []
    },
    {
      "cell_type": "markdown",
      "source": [
        "### Pembentukan Dataset Akhir"
      ],
      "metadata": {
        "id": "-4OL4KTP4gZT"
      }
    },
    {
      "cell_type": "code",
      "source": [],
      "metadata": {
        "id": "aZ2rpTEYldMU"
      },
      "execution_count": null,
      "outputs": []
    },
    {
      "cell_type": "markdown",
      "source": [
        "### Balancing Data"
      ],
      "metadata": {
        "id": "ST5hwz6qlhRp"
      }
    },
    {
      "cell_type": "code",
      "source": [
        "def balance_dataset(dataset):\n",
        "    balanced = pd.DataFrame(columns=dataset.columns)\n",
        "    for label in dataset.columns[1:]:\n",
        "        temp = dataset[dataset[label] == 1]\n",
        "        temp = temp.sample(n=min(15, len(temp)), random_state=42)\n",
        "        balanced = pd.concat([balanced, temp])\n",
        "    return balanced\n",
        "\n",
        "# This is the function to preprocess the dataset\n",
        "balanced = balance_dataset(newdataset2)\n",
        "balanced.shape"
      ],
      "metadata": {
        "id": "ayEHcjSh3Qcr"
      },
      "execution_count": null,
      "outputs": []
    },
    {
      "cell_type": "markdown",
      "source": [
        "### Split Dataset"
      ],
      "metadata": {
        "id": "4SBCQuud4UNz"
      }
    },
    {
      "cell_type": "code",
      "source": [],
      "metadata": {
        "id": "ov5U39z1lqms"
      },
      "execution_count": null,
      "outputs": []
    },
    {
      "cell_type": "markdown",
      "source": [
        "# 4.4 Modeling"
      ],
      "metadata": {
        "id": "b46qsYWcZbch"
      }
    },
    {
      "cell_type": "code",
      "source": [
        "dataset = pd.read_csv('/content/drive/MyDrive/Kuliah/TA Akhdan Musyaffa Firdaus/Bimbingan - Akhdan Musyaffa Firdaus/Dataset/Dipilah/final_dataset3.csv', sep='\\t')\n",
        "LABELS = dataset.columns[1:]"
      ],
      "metadata": {
        "id": "h1Zf31EUgoKj"
      },
      "execution_count": null,
      "outputs": []
    },
    {
      "cell_type": "code",
      "source": [
        "!pip install transformers tensorflow Sastrawi"
      ],
      "metadata": {
        "id": "xkHsolrl7EBc"
      },
      "execution_count": null,
      "outputs": []
    },
    {
      "cell_type": "code",
      "source": [
        "import tensorflow as tf\n",
        "# tf.config.run_functions_eagerly(True)\n",
        "from transformers import BertTokenizer, TFBertModel\n",
        "from sklearn.model_selection import train_test_split"
      ],
      "metadata": {
        "id": "rgmQPgWnrMpV"
      },
      "execution_count": null,
      "outputs": []
    },
    {
      "cell_type": "markdown",
      "source": [
        "## Hyperparameters"
      ],
      "metadata": {
        "id": "MXgVVP4ZuDVJ"
      }
    },
    {
      "cell_type": "code",
      "source": [
        "MAX_LEN=256\n",
        "TRAIN_BATCH_SIZE=32\n",
        "TEST_BATCH_SIZE=32\n",
        "EPOCHS=10\n",
        "LEARNING_RATE=2e-05\n",
        "TRAIN_SPLIT=0.8\n",
        "TEST_SPLIT=0.2"
      ],
      "metadata": {
        "id": "5rEOr_LCRoNt"
      },
      "execution_count": null,
      "outputs": []
    },
    {
      "cell_type": "code",
      "source": [
        "# Prepare Pre-trained Model dan Tokenizer\n",
        "BERT_NAME = 'indobenchmark/indobert-lite-base-p1'\n",
        "bert_tokenizer = BertTokenizer.from_pretrained(BERT_NAME)\n",
        "bert_model = TFBertModel.from_pretrained(BERT_NAME)"
      ],
      "metadata": {
        "id": "duL5IP0oKd95"
      },
      "execution_count": null,
      "outputs": []
    },
    {
      "cell_type": "code",
      "source": [
        "from Sastrawi.StopWordRemover.StopWordRemoverFactory import StopWordRemoverFactory\n",
        "from Sastrawi.Stemmer.StemmerFactory import StemmerFactory\n",
        "\n",
        "stemmer = StemmerFactory().create_stemmer()\n",
        "stopword_remover = StopWordRemoverFactory().create_stop_word_remover()\n",
        "\n",
        "def casefolding(val):\n",
        "  return str(val).lower()\n",
        "\n",
        "def stemming(val):\n",
        "  return stemmer.stem(str(val))\n",
        "\n",
        "def stopwordremove(val):\n",
        "  return stopword_remover.remove(str(val))\n",
        "\n",
        "def preprocess_sentences(tokenizer, max_len, sentences):\n",
        "  input_ids, attention_mask = [], []\n",
        "  for sentence in sentences:\n",
        "    input = casefolding(sentence)\n",
        "    input = stemming(input)\n",
        "    input = stopwordremove(input)\n",
        "    tokenized = tokenizer.encode_plus(\n",
        "        input,\n",
        "        add_special_tokens=True,\n",
        "        max_length=max_len,\n",
        "        padding='max_length',\n",
        "        truncation=True,\n",
        "        return_attention_mask=True,\n",
        "        return_token_type_ids=False,\n",
        "        return_tensors='tf'\n",
        "    )\n",
        "\n",
        "    input_ids.append(tokenized['input_ids'])\n",
        "    attention_mask.append(tokenized['attention_mask'])\n",
        "\n",
        "  return {\n",
        "    'input_ids': tf.convert_to_tensor(np.asarray(input_ids).squeeze(), dtype=tf.int32),\n",
        "    'attention_mask': tf.convert_to_tensor(np.asarray(attention_mask).squeeze(), dtype=tf.int32)\n",
        "  }"
      ],
      "metadata": {
        "id": "Uu3OvY38_6ev"
      },
      "execution_count": null,
      "outputs": []
    },
    {
      "cell_type": "code",
      "source": [
        "# Percobaan penggunaan tokenisasi\n",
        "tokenized = preprocess_sentences(bert_tokenizer, MAX_LEN, [\n",
        "    'Mobil saya tidak bisa di starter',\n",
        "    'AC tidak dingin'\n",
        "])\n",
        "\n",
        "print(tokenized)"
      ],
      "metadata": {
        "id": "dWc3kD0z2Nlq"
      },
      "execution_count": null,
      "outputs": []
    },
    {
      "cell_type": "code",
      "source": [
        "X_train, X_test, y_train, y_test = train_test_split(\n",
        "  dataset['konteks'],\n",
        "  dataset[LABELS],\n",
        "  test_size=TEST_SPLIT,\n",
        "  shuffle=True,\n",
        "  random_state=42\n",
        ")\n",
        "\n",
        "X_train = preprocess_sentences(bert_tokenizer, MAX_LEN, X_train)\n",
        "X_test = preprocess_sentences(bert_tokenizer, MAX_LEN, X_test)\n",
        "\n",
        "train_dataset = tf.data.Dataset.from_tensor_slices((X_train, y_train)).batch(TRAIN_BATCH_SIZE)\n",
        "test_dataset = tf.data.Dataset.from_tensor_slices((X_test, y_test)).batch(TEST_BATCH_SIZE)"
      ],
      "metadata": {
        "id": "2rCYtGjgkJ2t"
      },
      "execution_count": null,
      "outputs": []
    },
    {
      "cell_type": "code",
      "source": [
        "def classification_model(bert_encoder, num_labels, max_len, learning_rate):\n",
        "  input_ids = tf.keras.layers.Input(shape=(max_len,), dtype=tf.int32, name='input_ids')\n",
        "  attention_mask = tf.keras.layers.Input(shape=(max_len,), dtype=tf.int32, name='attention_mask')\n",
        "\n",
        "  encoding_layer = bert_encoder(input_ids, attention_mask)[0]\n",
        "\n",
        "  l = tf.keras.layers.GlobalAveragePooling1D(name='pooling_layer')(encoding_layer)\n",
        "  l = tf.keras.layers.Dropout(0.1, name='dropout_layer')(l)\n",
        "  l = tf.keras.layers.Dense(num_labels, activation='sigmoid', name='output_layer')(l)\n",
        "\n",
        "  model = tf.keras.Model(inputs=[input_ids, attention_mask], outputs=[l])\n",
        "\n",
        "  OPTIMIZER = tf.keras.optimizers.Adam(learning_rate=learning_rate)\n",
        "  LOSS = tf.keras.losses.BinaryCrossentropy()\n",
        "  METRICS = [tf.keras.metrics.BinaryAccuracy(name='accuracy')]\n",
        "\n",
        "  model.compile(optimizer=OPTIMIZER, loss=LOSS, metrics=METRICS)\n",
        "\n",
        "  return model\n",
        "\n",
        "model = classification_model(\n",
        "    bert_encoder=bert_model,\n",
        "    num_labels=len(LABELS),\n",
        "    max_len=MAX_LEN,\n",
        "    learning_rate=LEARNING_RATE,\n",
        ")"
      ],
      "metadata": {
        "id": "ToFvhxqP9lH0"
      },
      "execution_count": null,
      "outputs": []
    },
    {
      "cell_type": "code",
      "source": [
        "class CustomDataset(tf.keras.utils.Sequence):\n",
        "  def __init__(self, data, tokenizer, max_len):\n",
        "    self.data = data.reset_index(drop=True)\n",
        "    self.tokenizer = tokenizer\n",
        "    self.max_len = max_len\n",
        "    self.indexes = np.arrange(len(self.data))\n",
        "\n",
        "  def __len__(self):\n",
        "    return len(self.data)\n",
        "\n",
        "  def __getitem__(self, index):\n",
        "    row = self.data.iloc[index]\n",
        "\n",
        "    konteks = row['konteks'].tolist()\n",
        "    sparepart = row['sparepart'].tolist()\n",
        "    price = row['price'].tolist()\n",
        "    labels = row.drop(['konteks', 'sparepart', 'price'], axis=1)\n",
        "\n",
        "    input = casefolding(konteks)\n",
        "    input = stemming(input)\n",
        "    input = stopwordremove(input)\n",
        "\n",
        "    tokenized = self.tokenizer.encode_plus(\n",
        "        input,\n",
        "        add_special_tokens=True,\n",
        "        max_length=self.max_len,\n",
        "        padding='max_length',\n",
        "        truncation=True,\n",
        "        return_attention_mask=True,\n",
        "        return_token_type_ids=False,\n",
        "        return_tensors='tf'\n",
        "    )\n",
        "\n",
        "    input_ids = tf.convert_to_tensor(np.asarray(tokenized['input_ids']).squeeze(), dtype=tf.int32)\n",
        "    attention_mask = tf.convert_to_tensor(np.asarray(tokenized['attention_mask']).squeeze(), dtype=tf.int32)\n",
        "\n",
        "    return {\n",
        "      'input_ids': input_ids,\n",
        "      'attention_mask': attention_mask,\n",
        "      'labels': labels,\n",
        "      'sparepart': sparepart,\n",
        "      'price': price\n",
        "    }\n"
      ],
      "metadata": {
        "id": "uiCJ_z_FDJSU"
      },
      "execution_count": null,
      "outputs": []
    },
    {
      "cell_type": "code",
      "source": [
        "class ClassificationModelWithRecommendation(tf.keras.Model):\n",
        "  def __init__(self, bert_encoder, num_labels, num_spare_parts, max_len, learning_rate):\n",
        "    super(ClassificationModelWithRecommendation, self).__init__()\n",
        "    self.bert_encoder = bert_encoder\n",
        "    self.num_labels = num_labels\n",
        "    self.num_spare_parts = num_spare_parts\n",
        "    self.max_len = max_len\n",
        "    self.learning_rate = learning_rate\n",
        "\n",
        "    # Init classification submodel\n",
        "    self.classification_model = self.build_classification_model()\n",
        "\n",
        "    # Init spareparts prediction submodel\n",
        "    self.spare_part_model = self.build_spare_part_model()\n",
        "\n",
        "    # Init estimated price submodel\n",
        "    self.price_estimation_model = self.build_price_estimation_model()\n",
        "\n",
        "  def build_classification_model(self):\n",
        "    input_ids = tf.keras.layers.Input(shape=(self.max_len,), dtype=tf.int32, name='input_ids')\n",
        "    attention_mask = tf.keras.layers.Input(shape=(self.max_len,), dtype=tf.int32, name='attention_mask')\n",
        "\n",
        "    encoding_layer = self.bert_encoder(input_ids, attention_mask)[0]\n",
        "\n",
        "    l = tf.keras.layers.GlobalAveragePooling1D(name='poolling_layer')(encoding_layer)\n",
        "    l = tf.keras.layers.Dropout(0.1, name='dropout_layer')(l)\n",
        "    l = tf.keras.layers.Dense(self.num_labels, action='sigmoid', name='output_layer')(l)\n",
        "\n",
        "    model = tf.keras.Model(inputs=[input_ids, attention_mask], outputs=[l])\n",
        "\n",
        "    OPTIMIZER = tf.keras.optimizers.Adam(learning_rate=self.learning_rate)\n",
        "    LOSS = tf.keras.losses.BinaryCrossentropy()\n",
        "    METRICS = [tf.keras.metrics.BinaryAccuracy(name='accuracy')]\n",
        "\n",
        "    model.compile(optimizer=OPTIMIZER, loss=LOSS, metrics=METRICS)\n",
        "\n",
        "    return model\n",
        "\n",
        "  def build_spare_part_model(self):\n",
        "    spare_part_input = tf.keras.layers.Input(shape=(self.num_labels,), name='spare_part_input')\n",
        "    spare_part_output = tf.keras.layers.Dense(self.num_spare_parts, activation='softmax', name='spare_part_output')(spare_part_input)\n",
        "    model = tf.keras.Model(inputs=spare_part_input, outputs=spare_part_output)\n",
        "    return model\n",
        "\n",
        "  def build_price_estimation_model(self):\n",
        "    price_input = tf.keras.layers.Input(shape=(self.num_labels,), name='price_input')\n",
        "    price_output = tf.keras.layers.Dense(self.num_spare_parts, activation='linear', name='price_output')(price_input)\n",
        "    model = tf.keras.Model(inputs=price_input, outputs=price_output)\n",
        "    return model\n",
        "\n",
        "  def call(self, inputs):\n",
        "    classification_output = self.classification_model(inputs)\n",
        "    spare_part_probs = self.spare_part_model(classification_output)\n",
        "    price_estimations = self.price_estimation_model(classification_output)\n",
        "    return classification_output, spare_part_probs, price_estimations\n",
        "\n",
        "\n",
        "model_with_recommendation = ClassificationModelWithRecommendation(\n",
        "    bert_encoder=bert_model,\n",
        "    num_labels=len(LABELS),\n",
        "    num_spare_parts=len(),\n",
        "    max_len=MAX_LEN,\n",
        "    learning_rate=LEARNING_RATE\n",
        ")"
      ],
      "metadata": {
        "colab": {
          "base_uri": "https://localhost:8080/",
          "height": 235
        },
        "id": "6e-W37dz8l8V",
        "outputId": "44dc4aaf-9559-46cf-a850-a57c22e14fcd"
      },
      "execution_count": null,
      "outputs": [
        {
          "output_type": "error",
          "ename": "TypeError",
          "evalue": "ignored",
          "traceback": [
            "\u001b[0;31m---------------------------------------------------------------------------\u001b[0m",
            "\u001b[0;31mTypeError\u001b[0m                                 Traceback (most recent call last)",
            "\u001b[0;32m<ipython-input-23-0129512d9bda>\u001b[0m in \u001b[0;36m<cell line: 58>\u001b[0;34m()\u001b[0m\n\u001b[1;32m     59\u001b[0m     \u001b[0mbert_encoder\u001b[0m\u001b[0;34m=\u001b[0m\u001b[0mbert_model\u001b[0m\u001b[0;34m,\u001b[0m\u001b[0;34m\u001b[0m\u001b[0;34m\u001b[0m\u001b[0m\n\u001b[1;32m     60\u001b[0m     \u001b[0mnum_labels\u001b[0m\u001b[0;34m=\u001b[0m\u001b[0mlen\u001b[0m\u001b[0;34m(\u001b[0m\u001b[0mLABELS\u001b[0m\u001b[0;34m)\u001b[0m\u001b[0;34m,\u001b[0m\u001b[0;34m\u001b[0m\u001b[0;34m\u001b[0m\u001b[0m\n\u001b[0;32m---> 61\u001b[0;31m     \u001b[0mnum_spare_parts\u001b[0m\u001b[0;34m=\u001b[0m\u001b[0mlen\u001b[0m\u001b[0;34m(\u001b[0m\u001b[0;34m)\u001b[0m\u001b[0;34m,\u001b[0m\u001b[0;34m\u001b[0m\u001b[0;34m\u001b[0m\u001b[0m\n\u001b[0m\u001b[1;32m     62\u001b[0m     \u001b[0mmax_len\u001b[0m\u001b[0;34m=\u001b[0m\u001b[0mMAX_LEN\u001b[0m\u001b[0;34m,\u001b[0m\u001b[0;34m\u001b[0m\u001b[0;34m\u001b[0m\u001b[0m\n\u001b[1;32m     63\u001b[0m     \u001b[0mlearning_rate\u001b[0m\u001b[0;34m=\u001b[0m\u001b[0mLEARNING_RATE\u001b[0m\u001b[0;34m\u001b[0m\u001b[0;34m\u001b[0m\u001b[0m\n",
            "\u001b[0;31mTypeError\u001b[0m: len() takes exactly one argument (0 given)"
          ]
        }
      ]
    },
    {
      "cell_type": "code",
      "source": [
        "model.summary()"
      ],
      "metadata": {
        "colab": {
          "base_uri": "https://localhost:8080/"
        },
        "id": "AORNnOst93o4",
        "outputId": "dd84b5d9-e838-4fcd-d3cd-ec61b4eb8d30"
      },
      "execution_count": null,
      "outputs": [
        {
          "output_type": "stream",
          "name": "stdout",
          "text": [
            "Model: \"model\"\n",
            "__________________________________________________________________________________________________\n",
            " Layer (type)                   Output Shape         Param #     Connected to                     \n",
            "==================================================================================================\n",
            " input_ids (InputLayer)         [(None, 256)]        0           []                               \n",
            "                                                                                                  \n",
            " attention_mask (InputLayer)    [(None, 256)]        0           []                               \n",
            "                                                                                                  \n",
            " tf_bert_model (TFBertModel)    TFBaseModelOutputWi  109081344   ['input_ids[0][0]',              \n",
            "                                thPoolingAndCrossAt               'attention_mask[0][0]']         \n",
            "                                tentions(last_hidde                                               \n",
            "                                n_state=(None, 256,                                               \n",
            "                                 768),                                                            \n",
            "                                 pooler_output=(Non                                               \n",
            "                                e, 768),                                                          \n",
            "                                 past_key_values=No                                               \n",
            "                                ne, hidden_states=N                                               \n",
            "                                one, attentions=Non                                               \n",
            "                                e, cross_attentions                                               \n",
            "                                =None)                                                            \n",
            "                                                                                                  \n",
            " pooling_layer (GlobalAveragePo  (None, 768)         0           ['tf_bert_model[0][0]']          \n",
            " oling1D)                                                                                         \n",
            "                                                                                                  \n",
            " dropout_layer (Dropout)        (None, 768)          0           ['pooling_layer[0][0]']          \n",
            "                                                                                                  \n",
            " output_layer (Dense)           (None, 11)           8459        ['dropout_layer[0][0]']          \n",
            "                                                                                                  \n",
            "==================================================================================================\n",
            "Total params: 109,089,803\n",
            "Trainable params: 109,089,803\n",
            "Non-trainable params: 0\n",
            "__________________________________________________________________________________________________\n"
          ]
        }
      ]
    },
    {
      "cell_type": "code",
      "source": [
        "model.fit(\n",
        "    train_dataset,\n",
        "    epochs=EPOCHS,\n",
        "    validation_data=test_dataset,\n",
        ")"
      ],
      "metadata": {
        "id": "UfgwQ43fIn0i",
        "colab": {
          "base_uri": "https://localhost:8080/"
        },
        "outputId": "03a190e9-1bfc-495b-b4e4-c7d67ece7f84"
      },
      "execution_count": null,
      "outputs": [
        {
          "output_type": "stream",
          "name": "stdout",
          "text": [
            "Epoch 1/10\n"
          ]
        },
        {
          "output_type": "stream",
          "name": "stderr",
          "text": [
            "WARNING:tensorflow:Gradients do not exist for variables ['tf_bert_model/bert/pooler/dense/kernel:0', 'tf_bert_model/bert/pooler/dense/bias:0'] when minimizing the loss. If you're using `model.compile()`, did you forget to provide a `loss` argument?\n",
            "WARNING:tensorflow:Gradients do not exist for variables ['tf_bert_model/bert/pooler/dense/kernel:0', 'tf_bert_model/bert/pooler/dense/bias:0'] when minimizing the loss. If you're using `model.compile()`, did you forget to provide a `loss` argument?\n",
            "WARNING:tensorflow:Gradients do not exist for variables ['tf_bert_model/bert/pooler/dense/kernel:0', 'tf_bert_model/bert/pooler/dense/bias:0'] when minimizing the loss. If you're using `model.compile()`, did you forget to provide a `loss` argument?\n",
            "WARNING:tensorflow:Gradients do not exist for variables ['tf_bert_model/bert/pooler/dense/kernel:0', 'tf_bert_model/bert/pooler/dense/bias:0'] when minimizing the loss. If you're using `model.compile()`, did you forget to provide a `loss` argument?\n"
          ]
        },
        {
          "output_type": "stream",
          "name": "stdout",
          "text": [
            "8/8 [==============================] - 74s 2s/step - loss: 0.5048 - accuracy: 0.8147 - val_loss: 0.3267 - val_accuracy: 0.8968\n",
            "Epoch 2/10\n",
            "8/8 [==============================] - 12s 2s/step - loss: 0.3396 - accuracy: 0.8814 - val_loss: 0.2826 - val_accuracy: 0.8906\n",
            "Epoch 3/10\n",
            "8/8 [==============================] - 12s 2s/step - loss: 0.2812 - accuracy: 0.8892 - val_loss: 0.2567 - val_accuracy: 0.9045\n",
            "Epoch 4/10\n",
            "8/8 [==============================] - 12s 2s/step - loss: 0.2294 - accuracy: 0.9032 - val_loss: 0.2111 - val_accuracy: 0.9384\n",
            "Epoch 5/10\n",
            "8/8 [==============================] - 13s 2s/step - loss: 0.1862 - accuracy: 0.9263 - val_loss: 0.1935 - val_accuracy: 0.9353\n",
            "Epoch 6/10\n",
            "8/8 [==============================] - 13s 2s/step - loss: 0.1512 - accuracy: 0.9504 - val_loss: 0.1617 - val_accuracy: 0.9553\n",
            "Epoch 7/10\n",
            "8/8 [==============================] - 13s 2s/step - loss: 0.1283 - accuracy: 0.9493 - val_loss: 0.1368 - val_accuracy: 0.9538\n",
            "Epoch 8/10\n",
            "8/8 [==============================] - 13s 2s/step - loss: 0.1035 - accuracy: 0.9645 - val_loss: 0.1246 - val_accuracy: 0.9661\n",
            "Epoch 9/10\n",
            "8/8 [==============================] - 13s 2s/step - loss: 0.0864 - accuracy: 0.9692 - val_loss: 0.1139 - val_accuracy: 0.9676\n",
            "Epoch 10/10\n",
            "8/8 [==============================] - 13s 2s/step - loss: 0.0717 - accuracy: 0.9750 - val_loss: 0.1187 - val_accuracy: 0.9646\n"
          ]
        },
        {
          "output_type": "execute_result",
          "data": {
            "text/plain": [
              "<keras.callbacks.History at 0x7fe6c60d3700>"
            ]
          },
          "metadata": {},
          "execution_count": 14
        }
      ]
    },
    {
      "cell_type": "markdown",
      "source": [
        "# 4.5 Model Evaluation"
      ],
      "metadata": {
        "id": "zFff9onQZj2w"
      }
    },
    {
      "cell_type": "code",
      "source": [
        "model.evaluate(test_dataset)"
      ],
      "metadata": {
        "id": "HAbCVcEqSQqm",
        "colab": {
          "base_uri": "https://localhost:8080/"
        },
        "outputId": "7b087953-5364-422c-9881-32b8763886f5"
      },
      "execution_count": null,
      "outputs": [
        {
          "output_type": "stream",
          "name": "stdout",
          "text": [
            "2/2 [==============================] - 1s 504ms/step - loss: 0.1187 - accuracy: 0.9646\n"
          ]
        },
        {
          "output_type": "execute_result",
          "data": {
            "text/plain": [
              "[0.11871889233589172, 0.964560866355896]"
            ]
          },
          "metadata": {},
          "execution_count": 15
        }
      ]
    },
    {
      "cell_type": "code",
      "source": [
        "inputs = ['AC mobil tidak dingin', 'Rem pada mobil tidak bekerja', 'Kaca spion rusak harus diganti']\n",
        "tokenized = preprocess_sentences(bert_tokenizer, MAX_LEN, inputs)\n",
        "predictions = model.predict(tokenized)\n",
        "\n",
        "# Define the threshold\n",
        "threshold = 0.5\n",
        "\n",
        "# Apply the threshold to the predictions\n",
        "binary_predictions = np.where(predictions > threshold, 1, 0)\n",
        "\n",
        "# Print the binary predictions\n",
        "print(LABELS)\n",
        "print(binary_predictions)"
      ],
      "metadata": {
        "colab": {
          "base_uri": "https://localhost:8080/"
        },
        "id": "8hOOj9e3sqhd",
        "outputId": "8372126c-0030-42ab-e75c-1985de5150ab"
      },
      "execution_count": null,
      "outputs": [
        {
          "output_type": "stream",
          "name": "stdout",
          "text": [
            "1/1 [==============================] - 7s 7s/step\n",
            "Index(['masalah sistem knalpot', 'masalah transmisi', 'masalah suspensi',\n",
            "       'gangguan listrik', 'masalah sistem bahan bakar', 'masalah kemudi',\n",
            "       'masalah ban', 'masalah mesin', 'kegagalan rem',\n",
            "       'masalah sistem pendingin', 'kerusakan aksesoris interior eksterior'],\n",
            "      dtype='object')\n",
            "[[0 0 0 0 0 0 0 0 0 1 0]\n",
            " [0 0 0 0 0 0 0 0 1 0 0]\n",
            " [0 0 0 0 0 0 0 0 0 0 0]]\n"
          ]
        }
      ]
    },
    {
      "cell_type": "code",
      "source": [
        "import numpy as np\n",
        "from sklearn.metrics import precision_score, recall_score, f1_score\n",
        "\n",
        "# Assuming you have predictions and ground truth labels\n",
        "predictions = model.predict(test_dataset)  # Get model predictions\n",
        "threshold = 0.5  # Set threshold for label prediction\n",
        "\n",
        "# Convert probability predictions to binary predictions\n",
        "binary_predictions = np.where(predictions >= threshold, 1, 0)\n",
        "\n",
        "# Compute precision, recall, and F1-score for each label\n",
        "label_precisions = precision_score(y_test, binary_predictions, average=None)\n",
        "label_recalls = recall_score(y_test, binary_predictions, average=None)\n",
        "label_f1_scores = f1_score(y_test, binary_predictions, average=None)\n",
        "\n",
        "# Print accuracy metrics for each label\n",
        "for label, precision, recall, f1_score in zip(LABELS, label_precisions, label_recalls, label_f1_scores):\n",
        "    print(f\"Label: {label}\")\n",
        "    print(f\"Precision: {precision}\")\n",
        "    print(f\"Recall: {recall}\")\n",
        "    print(f\"F1-score: {f1_score}\")\n",
        "    print()\n"
      ],
      "metadata": {
        "colab": {
          "base_uri": "https://localhost:8080/"
        },
        "id": "sKWbDm0E33Tq",
        "outputId": "6a0c0904-f553-4135-ad19-a317b3ed9969"
      },
      "execution_count": null,
      "outputs": [
        {
          "output_type": "stream",
          "name": "stdout",
          "text": [
            "2/2 [==============================] - 5s 468ms/step\n",
            "Label: masalah sistem knalpot\n",
            "Precision: 1.0\n",
            "Recall: 0.8333333333333334\n",
            "F1-score: 0.9090909090909091\n",
            "\n",
            "Label: masalah transmisi\n",
            "Precision: 0.8888888888888888\n",
            "Recall: 1.0\n",
            "F1-score: 0.9411764705882353\n",
            "\n",
            "Label: masalah suspensi\n",
            "Precision: 0.3333333333333333\n",
            "Recall: 0.3333333333333333\n",
            "F1-score: 0.3333333333333333\n",
            "\n",
            "Label: gangguan listrik\n",
            "Precision: 0.875\n",
            "Recall: 1.0\n",
            "F1-score: 0.9333333333333333\n",
            "\n",
            "Label: masalah sistem bahan bakar\n",
            "Precision: 1.0\n",
            "Recall: 0.6666666666666666\n",
            "F1-score: 0.8\n",
            "\n",
            "Label: masalah kemudi\n",
            "Precision: 0.7142857142857143\n",
            "Recall: 1.0\n",
            "F1-score: 0.8333333333333333\n",
            "\n",
            "Label: masalah ban\n",
            "Precision: 0.75\n",
            "Recall: 0.8571428571428571\n",
            "F1-score: 0.7999999999999999\n",
            "\n",
            "Label: masalah mesin\n",
            "Precision: 1.0\n",
            "Recall: 0.3333333333333333\n",
            "F1-score: 0.5\n",
            "\n",
            "Label: kegagalan rem\n",
            "Precision: 1.0\n",
            "Recall: 1.0\n",
            "F1-score: 1.0\n",
            "\n",
            "Label: masalah sistem pendingin\n",
            "Precision: 0.8\n",
            "Recall: 1.0\n",
            "F1-score: 0.888888888888889\n",
            "\n",
            "Label: kerusakan aksesoris interior eksterior\n",
            "Precision: 1.0\n",
            "Recall: 1.0\n",
            "F1-score: 1.0\n",
            "\n"
          ]
        }
      ]
    },
    {
      "cell_type": "markdown",
      "source": [
        "# 4.6 Deployment"
      ],
      "metadata": {
        "id": "IYYwqoxdZmna"
      }
    },
    {
      "cell_type": "code",
      "source": [
        "!rm model_output/klasifikasi.h5\n",
        "model.save('model_output/klasifikasi.h5')"
      ],
      "metadata": {
        "id": "iMgrrgLH1Dxg",
        "colab": {
          "base_uri": "https://localhost:8080/"
        },
        "outputId": "03873de2-fc07-44b7-c1ca-072ea15eee99"
      },
      "execution_count": null,
      "outputs": [
        {
          "output_type": "stream",
          "name": "stdout",
          "text": [
            "rm: cannot remove 'model_output/klasifikasi2.h5': No such file or directory\n"
          ]
        }
      ]
    },
    {
      "cell_type": "code",
      "source": [
        "loaded_model = tf.keras.models.load_model('/content/model_output/klasifikasi.h5', custom_objects={'TFBertModel': TFBertModel})"
      ],
      "metadata": {
        "id": "3KQu0FJFdUcT"
      },
      "execution_count": null,
      "outputs": []
    },
    {
      "cell_type": "code",
      "source": [
        "inputs = ['mesin tidak bisa menyala', 'AC mobil tidak dingin', 'Mesin bersuara kasar', 'ban bocor dan harus diganti dengan yang baru', 'asap knalpot berwarna putih', 'kaca spion pecah dan harus diganti', 'lampu sein kendaraan tidak berfungsi']\n",
        "tokenized = preprocess_sentences(bert_tokenizer, MAX_LEN, inputs)\n",
        "predictions = loaded_model.predict(tokenized)\n",
        "\n",
        "# Define the threshold\n",
        "threshold = 0.5\n",
        "\n",
        "# Apply the threshold to the predictions\n",
        "binary_predictions = np.where(predictions > threshold, 1, 0)\n",
        "\n",
        "# Print the binary predictions\n",
        "print(LABELS)\n",
        "print(binary_predictions)"
      ],
      "metadata": {
        "colab": {
          "base_uri": "https://localhost:8080/"
        },
        "id": "wwG4B47PvKqj",
        "outputId": "8bc5a84a-ab9e-4d4d-e9f6-192a79886173"
      },
      "execution_count": null,
      "outputs": [
        {
          "output_type": "stream",
          "name": "stdout",
          "text": [
            "1/1 [==============================] - 6s 6s/step\n",
            "Index(['masalah sistem knalpot', 'masalah transmisi', 'masalah suspensi',\n",
            "       'gangguan listrik', 'masalah sistem bahan bakar', 'masalah kemudi',\n",
            "       'masalah ban', 'masalah mesin', 'kegagalan rem',\n",
            "       'masalah sistem pendingin', 'kerusakan aksesoris interior eksterior'],\n",
            "      dtype='object')\n",
            "[[0 0 0 0 0 0 0 1 0 0 0]\n",
            " [0 0 0 0 0 0 0 0 0 1 0]\n",
            " [0 0 0 0 0 0 0 1 0 0 0]\n",
            " [0 0 0 0 0 0 0 0 0 0 0]\n",
            " [0 0 0 0 0 0 0 0 0 0 0]\n",
            " [0 0 0 0 0 0 0 0 0 0 0]\n",
            " [0 0 0 1 0 0 0 0 0 0 0]]\n"
          ]
        }
      ]
    },
    {
      "cell_type": "markdown",
      "source": [
        "## Implementasi Rumus menentukan tingkat kerusakan"
      ],
      "metadata": {
        "id": "ue0bMkisEGrI"
      }
    },
    {
      "cell_type": "code",
      "source": [
        "LABEL_WEIGHTS = dict.fromkeys(label_kerusakan, 0)\n",
        "\n",
        "def measure_severity(val):\n",
        "  treshold = 0.5\n",
        "\n",
        "  NUMBER_LABEL_DETECTED = np.sum(val > treshold)\n",
        "  LABEL_RESULTS = {}\n",
        "\n",
        "  for label, count in zip(LABEL_WEIGHTS.keys(), val):\n",
        "    if count > treshold:\n",
        "      LABEL_RESULTS[label] = count\n",
        "\n",
        "  category_weights = [LABEL_WEIGHTS[label] * count for label, count in LABEL_RESULTS.items()]\n",
        "  severity_score = sum(category_weights) / NUMBER_LABEL_DETECTED\n",
        "\n",
        "  return severity_score"
      ],
      "metadata": {
        "id": "tM6HaB9bEKhW"
      },
      "execution_count": null,
      "outputs": []
    }
  ]
}